{
 "cells": [
  {
   "cell_type": "markdown",
   "metadata": {},
   "source": [
    " This program analyzes:(1) The word frequency of covid-19 of nevada hhs part by month in 2021 (2) The attitude towards covid-19 of nevada hhs part by month in 2021"
   ]
  },
  {
   "cell_type": "markdown",
   "metadata": {},
   "source": [
    "## Clean the data"
   ]
  },
  {
   "cell_type": "code",
   "execution_count": 1,
   "metadata": {},
   "outputs": [],
   "source": [
    "import os\n",
    "import sys\n",
    "import json\n",
    "from pathlib import Path\n",
    "\n",
    "import nltk"
   ]
  },
  {
   "cell_type": "markdown",
   "metadata": {},
   "source": [
    "## Load Data"
   ]
  },
  {
   "cell_type": "code",
   "execution_count": 2,
   "metadata": {},
   "outputs": [],
   "source": [
    "github_file_path = str(Path(os.getcwd()).parents[1]) #sets to individual github path\n",
    "\n",
    "sys.path.insert(1, github_file_path)"
   ]
  },
  {
   "cell_type": "code",
   "execution_count": 3,
   "metadata": {},
   "outputs": [],
   "source": [
    "from LegTextScraper.states.nv import nv_preprocess"
   ]
  },
  {
   "cell_type": "code",
   "execution_count": 4,
   "metadata": {},
   "outputs": [],
   "source": [
    "data = nv_preprocess(\"nv_hhs_m_2021.json\", trim=True)"
   ]
  },
  {
   "cell_type": "code",
   "execution_count": 5,
   "metadata": {},
   "outputs": [
    {
     "data": {
      "text/plain": [
       "'Chair Nguyen: [Roll was called. Committee rules and protocol were explained.] I am going to take things out of agenda order because members are presenting in other committees right now. I will open the hearing on Assembly Bill 430. Assemblywoman Brown-May has an extreme interest in all things related to health and human services. As a last-minute appointee, she spends a lot of time watching our Committee. Assembly Bill 430: Revises provisions relating to disabilities. (BDR 39-1048) Assemblywoman Tracy Brown-May, Assembly District No. 42: I appreciate all the work this Committee has been doing. We are pleased to be here to present Assembly Bill 430. With me today are Jessica Adams, Deputy Administrator with Assembly Committee on Health and Human Services April 2, 2021 the Aging and Disability Services Division of the Department of Health and Human Services, and Ace Patrick, Chair of the Nevada Statewide Independent Living Council. We are working to raise awareness about the importance of using preferred words and phrases to refer to people with disabilities and to update our Nevada Revised Statutes (NRS). As I testified in another committee a few days ago, the meanings of words change over time. As society evolves, we must also make changes to reflect that evolution. In this session of the Legislature, we have considered several bills intended to raise awareness and improve equality. I know that you have already heard a bill brought by our minority leader which is a joint resolution to affect the changes in our Constitution. The words and the labels we use in statute can have a profound effect on people. This bill was first discussed during the interim, as the Statewide Independent Living Council members identified the use of the \"R\" word that continued to exist in Nevada Revised Statutes (NRS). While the reference is to an association, that association does not exist in Nevada today, and we are working to eliminate that outdated language. There are also references in NRS Chapter 435 that are inaccurate and offensive to people with diverse abilities. At this time, I would like to turn the presentation over to Jessica Adams, who will walk us through bill. When she has completed that, we will turn it over to Ace Patrick, who will give us a perspective of what it is like being a member of the disability community. Jessica Adams, Deputy Administrator, Community Based Care and Development Services, Aging and Disability Services Division, Department of Health and Human Services: Assembly Bill 430 revises obsolete terms and phrases within NRS Chapter 435 regarding the care and services provided to persons with intellectual and developmental disabilities. The proposed changes will align the language used in NRS Chapter 435 with the language and phrases already used within developmental services and the community. Section 1 revises NRS 435.060 to describe the transition of a person residing in a residential facility for groups to a nonfacility-based setting from being able to live in a \"more normal situation\" to being able to reside \"in an appropriate community-based setting that is not a facility.\" Section 2 revises NRS 435.115 to remove the reference to the State Association for Retarded Citizens and the board, as this organization no longer exists in Nevada. As Assemblywoman Brown-May mentioned, that is an offensive term now. It will be changed to reflect that the fee schedules will be established by the Administrator of Aging and Disability Services subject to the approval of the Director of the Department of Health and Human Services. Section 3 revises NRS 435.130 to update the declaration of legislative intent for jobs and day training services. This will change the purpose of jobs and day training services for people with intellectual and developmental disabilities from providing services to \"help them become useful citizens\" to providing jobs and day training services to \"increase independence.\" This bill has no fiscal note. All of these changes align NRS Chapter 435 with terms and phrases that are already used within the developmental services field on a daily basis and represent current terminology as well as the respectful language deserved by the people whom we serve. Assembly Committee on Health and Human Services April 2, 2021 Ace Patrick, Chair, Nevada Statewide Independent Living Council: Thank you for the opportunity to provide some background information about the importance of our words. Since the late 1960s, there has been an evolving movement toward \"person-first\" language. It originated in Sweden and began to be incorporated into the United States with some historical acts within the United States Constitution. Now it is the accepted terminology of the American Psychological Association (APA) that further translates into most government acts such as the ADA [Americans with Disabilities Act of 1990] and the IDEA [Individuals with Disabilities Education Act of 2004]. It only makes sense that Nevada ensures our language in statute follows suit. The purpose behind person-first language emphasizes the individuality, equality, and dignity of people with disabilities by maintaining that an individual is a person first and foremost, and that traits and medical conditions do not define who he or she is but are rather simply that—a trait or medical condition. Using person-first language reduces social stigmas and provides a frame of reference that places all people in the same category before introducing any other aspects to be considered. Although not every person agrees with person-first language, it generally invokes mutual respect and is appreciated by most of the disability community. As the chair of the Nevada Statewide Independent Living Council, I am speaking on behalf of the Council when I say that Nevada still chooses to educate and inform any and all who may question the purpose or meaning behind this movement and supports person-first and respectful language options for people with disabilities. The most important thing to remember when considering person-first language is that it replaces antiquated and offensive terminology that has no business in Nevada language. Words do matter. In my experience, I can testify that for years I felt like a farm animal being herded by doctors, psychiatrists, and institutions while they used my diagnoses as labels to push me through to the next provider. I do not think these professionals started to see me as a person until the paradigm began to change. Suddenly, I became a person with autism, a person with hearing loss, a person with blindness, a person with a neurological disorder. My life changed dramatically when professionals began to address me about my diagnoses and not talk to each other about my diagnoses as if I did not even exist. It may not seem like it matters to people who have never had to remind others they are in the room, but I can tell you that it has made an enormous impact on the quality of my life. I am a person with disabilities, and I support these important changes proposed in Assembly Bill 430. I want to thank the Committee for bringing it forward. Assemblywoman Brown-May: That is the crux of our position and our presentation. As you can see, the words we are working to eliminate are words that isolate us from each other. We are trying to eliminate the misunderstanding that exists. We focused on three words. The first is \"normal.\" According to everything I have been taught, normal is nothing more than a setting on my dryer and should not be used when describing people. We focused on the word \"retarded,\" Assembly Committee on Health and Human Services April 2, 2021 which is a diagnostic term that should not be used to describe people. To insinuate that we are helping people to become \"more useful\" is just insulting. Those are the three terms we are focusing on eliminating with this bill. Chair Nguyen: Do we have any questions? Assemblyman Hafen: There have been other bills and resolutions to clean up obsolete language that is not appropriate today. I know there is a national association called The Arc. Would the changes have any effect on interaction with The Arc? Assemblywoman Brown-May: The Arc is a national affiliate organization. At one time, there was an affiliate here in Nevada. That currently does not exist. Changes in this bill would not preclude its operation in the state. If there were an advocacy organization that was so intended, it could nationally affiliate with The Arc of the United States. I know the leaders of the Aging and Disability Services Division [within the Department of Health and Human Services] would be very happy to work with The Arc. Currently, The Arc is not involved in the fee-setting schedule in Nevada, so it would not have any impact here at all. Chair Nguyen: Assemblyman Hafen, do you have any follow-up questions? Assemblyman Hafen: I do not. Chair Nguyen: Are there any other questions or comments from Committee members? [There were none.] May we have testimony in support of Assembly Bill 430? Troy Friden, Chief Operations Officer, Chrysalis: Chrysalis provides services for over 220 people in Nevada with intellectual disabilities in supportive living arrangements and/or jobs and day training settings. I want to voice my support for Assembly Bill 430. This legislation will enhance the dignity of some of Nevada\\'s most vulnerable citizens by updating antiquated language in statute that is perceived as demeaning and/or alienating. It will ensure that NRS focuses on person-first ideology. It will also make the language in the NRS more compatible with federal regulations including the Home and Community Based Services (HCBS) rule issued by the Centers for Medicare and Medicaid Services in 2014. I am thankful for the state\\'s commitment in serving this wonderful population of citizens. I am grateful for this legislative body\\'s ongoing commitment to this population by considering legislation such as A.B. 430. I also want to thank Aging and Disability Services Division Administrator Dena Schmidt and Deputy Administrator Jessica Adams for their leadership and partnership with providers in serving individuals with intellectual and developmental disabilities. Assembly Committee on Health and Human Services April 2, 2021 Lisa Foster, representing State of Nevada Association of Providers: State of Nevada Association of Providers\\' (SNAP) organizations provide supportive living arrangements, jobs and day training, and related supportive services throughout the state. Assembly Bill 430 moves Nevada statutory language into the modern vernacular for individuals with an intellectual disability. Removing the phrase, \"more normal situation\" in section 1, to what we now have and what our providers offer, \"appropriate community-based setting,\" demonstrates what is truly most helpful for the individuals SNAP serves. We also appreciate the removal of the word \"retarded citizens\" from the statute in section 2 and the change to \"increase independence\" from \"useful citizens\" in section 3. The terms are antiquated and less than respectful. We greatly appreciate Assemblywoman Brown-May for bringing this legislation forward. Chair Nguyen: We can go to our next caller in support. [There was no one.] Are there any callers in opposition to Assembly Bill 430? [There were none.] Do we have any callers in neutral? [There were none.] I will turn it back to Assemblywoman Brown-May for any closing remarks. Assemblywoman Brown-May: We would like to thank you for your time and consideration of Assembly Bill 430. We appreciate the time you have taken to hear it. I know that our stakeholders are grateful. I would like to thank Deputy Administrator Jessica Adams and everyone who has worked on this bill. Chair Nguyen: I will close the hearing on Assembly Bill 430. Some have asked if we could pass this today. I will put this on for a work session on Monday [April 5, 2021]. Thank you, everyone on the Committee, for your support of Assembly Bill 430. This bill was inspired, in part, by the Minority Leader\\'s [Assemblywoman Titus] Assembly Joint Resolution [1] we heard earlier in the session. We are waiting for members who are attending other meetings. We have a lengthy presentation on Assembly Bill 347. We will take a short recess to provide time for members to return to our meeting for the work session. The meeting is recessed [at 12:39 p.m.]. [The meeting was reconvened at 12:45 p.m.] We have a quorum. At this time, we will move into our work session. Our first bill is Assembly Bill 358. Assembly Committee on Health and Human Services April 2, 2021 Assembly Bill 358: Enacts provisions to improve access to Medicaid for persons released from incarceration. (BDR 38-919) Patrick Ashton, Committee Policy Analyst: [Patrick Ashton read from the work session document, Exhibit C.] Assembly Bill 358 was heard on March 29, 2021. This bill requires the suspension, rather than termination, of eligibility for Medicaid of a person who is incarcerated. The bill also requires the eligibility for and coverage under Medicaid for a person who is released from incarceration to be reinstated or instituted, as applicable, as soon as possible upon release. Under A.B. 358, a person who is incarcerated and who was not eligible for Medicaid before being incarcerated or whose eligibility for Medicaid has been terminated must be allowed to apply for enrollment in Medicaid up to six months before his or her scheduled release date. Finally, the bill requires the Director of the Department of Corrections to complete a Medicaid application as soon as practicable after an offender is authorized to enroll in Medicaid if the offender may be eligible for Medicaid upon release. Richard Whitley, Director, Department of Health and Human Services, provided a memorandum which follows up on questions raised during the bill hearing [Exhibit D]. The memorandum was sent to members and is available on the Nevada Electronic Legislative Information System. Chair Nguyen: Are there any questions? [There were none.] I will entertain a motion to do pass Assembly Bill 358. ASSEMBLYWOMAN PETERS MADE A MOTION TO DO PASS ASSEMBLY BILL 358. ASSEMBLYMAN HAFEN SECONDED THE MOTION. Are there any comments on the motion? THE MOTION PASSED. (ASSEMBLYWOMAN BLACK VOTED NO. ASSEMBLYWOMAN BENITEZ-THOMPSON WAS ABSENT FOR THE VOTE.) I will take the floor statement myself. The next bill on work session is Assembly Bill 273. Assembly Bill 273: Revises provisions relating to mental health consortia for children. (BDR 39-355) Patrick Ashton, Committee Policy Analyst: [Patrick Ashton read from the work session document, Exhibit E]. Assembly Bill 273 was heard on March 19, 2021. This bill creates a statewide mental health consortium to represent existing regional mental health consortia. The bill prescribes the membership and duties of Assembly Committee on Health and Human Services April 2, 2021 the statewide mental health consortium and allows the statewide mental health consortium and each regional mental health consortium to request the drafting of one legislative measure within the scope of the statewide or regional consortium, as applicable. There is an amendment from Dan Musgrove, on behalf of the Clark County Children\\'s Mental Health Consortium. It proposes to amend subsection 4 of Nevada Revised Statutes 433B.333 (section 2 of the bill, page 3, line 24 through 27) to: (1) remove the requirement that the Administrator of the Division of Child and Family Services or the Deputy Administrator of the Division serve as a member of the consortium; and (2) instead require the administrator or his or her designee to serve on the consortium. The proposed amendment is attached. Chair Nguyen: Are there any questions? The amendment is posted on the Nevada Electronic Legislative Information System. Assemblywoman Titus: I had concerns with this bill and the membership of the consortium. I was concerned members could be able to sit on different committees, recognizing that the volunteer world is somewhat limited and people with interests are limited. I wondered about the capacity to fill this board. It is my understanding that has been clarified. Since this is not a board that is appointed by the Office of the Governor, it does not interfere with some of the other roles potential members may have. I wanted to make sure that was clear on the record. It answered my concerns. Chair Nguyen: Thank you. I appreciate that you reached out to the bill sponsor and legal counsel to get that answer. Are there any other comments? [There were none.] I will entertain a motion to amend and do pass Assembly Bill 273. ASSEMBLYWOMAN PETERS MOVED TO AMEND AND DO PASS ASSEMBLY BILL 273. ASSEMBLYWOMAN TITUS SECONDED THE MOTION. Do we have any comments on the motion? [There were none.] THE MOTION PASSED. (ASSEMBLYWOMAN BLACK VOTED NO. ASSEMBLYWOMAN BENITEZ-THOMPSON WAS ABSENT FOR THE VOTE.) I will assign the floor statement to Assemblywoman Gorelow. That concludes our work session. At this time, I will open the hearing on Assembly Bill 347. Due to the complexity of this bill, the presentation will take longer than usual. Additionally, I have given videoconference Assembly Committee on Health and Human Services April 2, 2021 access to certain stakeholders to testify on this bill in support, opposition, and neutral. Assemblyman Orentlicher and I have made a coordinated effort to ensure we have a thorough policy discussion about Assembly Bill 347. We will have the main presentation; then we will take testimony in support, opposition, and neutral. I have allowed for key stakeholders to have an extended opportunity to testify in opposition. Then I will open it again for questions. We will have questions after the main presentation, then testimony, then further questions from members for key stakeholders available to answer questions, then an opportunity for Assemblyman Orentlicher and his presenters to respond. This will lead to a more fruitful conversation and debate about this policy. I appreciate your reading this complex bill. We tried to hold stakeholder informational meetings at the beginning of the session. Hopefully, this triggered some of those for members not familiar with the health care world. If not, this will probably give you a broader knowledge base to be able to process the policy. Assembly Bill 347: Revises provisions related to health care. (BDR 38-541) Assemblyman David Orentlicher, Assembly District No. 20: I am here to present Assembly Bill 347, which includes two proposals to make our health care system much fairer for patients, doctors, hospitals, and other providers of health care [Exhibit F]. Assembly Bill 347 will make health care fair for everyone and will make it more accessible for patients, especially minority and poor Nevadans who struggle now to get the care they need. I am joined by copresenters Joseph White, Jolette Goins, KC Christon, and Asia Duncan. This bill is for the Medicaid recipient who cannot find a primary care physician because we do not pay doctors enough under our Medicaid program. With this bill, Medicaid patients will be able to get care sooner, in a doctor\\'s office, rather than later, in an emergency department when they are much sicker. This bill is for doctors, hospitals, and other health care providers who treat Medicaid recipients and lose money doing so because our Medicaid program underpays providers of health care. This bill is for individuals who cannot afford to purchase health care insurance because premiums are too high. This bill is also for people who have health care insurance but cannot afford the deductibles or copayments when they seek care. This bill is for workers who do not get wage increases because their employers must spend more money funding employee health care benefits and less on salaries. This bill is for small businesses that cannot afford to offer health care benefits because health care premiums are too high. This bill is also for businesses that do provide health care insurance because the bill will reduce their health care costs and make them much more competitive with businesses in other states. This bill will make health care more affordable and accessible to the many Nevadans who struggle to get the health care they need today. The proposal is based on careful study and consultation with health economists and policy experts across the country, including many of the stakeholders who participated in our working group. I want to give special thanks to Joseph White from Case Western Reserve University, whom you will be hearing from, who developed the idea we are presenting in the Assembly Committee on Health and Human Services April 2, 2021 second part of A.B. 347; and to Natalie Johns, who has been working on this with me for three months to get us to this stage. We have had a working group with stakeholders from across the spectrum—hospitals, other providers, insurers, employers, unions, and patient advocates [page 2, Exhibit F]. We had formal meetings for the past two months and individual meetings since December, and we are continuing to meet with smaller groups to get their perspective. Their input is in our conceptual amendment [Exhibit G]. The amendment reflects the input from our stakeholders. We were careful to make sure they had the framework for the bill two months ago; one month ago, they received the actual language. They received the final bill a couple of weeks ago. One motivation behind the bill is that Nevada Medicaid reimbursement rates have been too low for too long [page 3, Exhibit F]. That is unfair to Medicaid patients because it impedes access. If you do not pay providers enough, they are reluctant to take care of Medicaid patients, so it is unfair to patients. It is unfair to providers as well. We undercompensate hospitals, physicians, and other caregivers. It just is not fair. It also results in cost shifting. If we underpay on the Medicaid side, doctors and hospitals are losing money; they must raise their reimbursement rates from privately insured patients to make up the difference, which raises health insurance premiums. It is unfair to everybody when Medicaid underpays. Our private insurance payment system is too complicated [page 4]. There are too many negotiations over rates. Providers have to deal with multiple insurers, negotiating with each one. There is too much variation in rates. We may pay $5,000 in one hospital, and we might pay $30,000 in another hospital. There is too little transparency in rates. We do not know exactly what the negotiated rates are. It is a mystery trying to figure out how much you are going to pay if you have ever looked at a hospital bill and tried to figure that out. There is too much distortion of market forces. In some markets, insurers have too much leverage; in other markets, hospitals do. It would be nice to have a free market in health care, but we do not because the market does not work in health care the way it is supposed to. Some providers are underpaid with Medicaid and even private insurance. It is tough to make a go of it as a primary care doctor in many places. Some providers are overpaid. That causes our health care system to be far too expensive. I will illustrate the problem of high health care costs. In the United States, we spend about $10,500 per person on health care [page 5]. The next-highest is Switzerland, which is just under 70 percent of what we pay—around $7,000 per person. Germany is 57 percent of what we spend; Canada is under 50 percent of what we spend; Japan is 45 percent of what we spend; and New Zealand is 37 percent of what we spend. You get very good care in Switzerland, Germany, Canada, Japan, and New Zealand. We are overspending on health care. Why are we spending so much? Why are health care costs high [page 5]? It is not because we go to the doctor more often or spend more time in the hospital. We actually go to the hospital less often and spend less time in the hospital. We do not see doctors as often as in Assembly Committee on Health and Human Services April 2, 2021 Japan or other countries. It is not because we are sicker. On average, there is less overall sickness in the United States than Western European countries. That is because we have a younger population, and we do not smoke as much as Europeans. It is not because we are more litigious. We may be more litigious, but the cost of the tort system accounts for less than 1 percent of our health care costs. That is not the reason. The reason our costs are higher is because our prices are higher. You can get an MRI in Japan for $150; here, it is $1,500. The reason our prices are higher is because we rely on insurance companies rather than the government to negotiate. The reason all these other countries, except Switzerland, have lower health care costs than we do is the government negotiates the prices. The government is a much better negotiator than insurance companies. Page 7 of Exhibit F is an illustration of the difference in cost between having an appendectomy in Nevada and having one in Taiwan. If you look at the horizontal, flat blue line at the bottom of the graph, this is the cost of an appendectomy in Taiwan. You notice it does not matter where in Taiwan you are—it is the same price, about $2,500. If you have your appendix removed in Nevada, the best price is $3,500, 42 percent higher than in Taiwan. The cost goes up from there. Whether you are in the north or the south makes a big difference. According to the Public Employees\\' Health Benefits Plan negotiated rates in Nevada for state employees, the highest price is almost $48,000, 1,800 percent higher than in Taiwan. This makes no economic sense. It is not because this $47,000 appendectomy is a better appendectomy; it may be worse. There is a poor correlation between quality and cost in the United States. We should be where Taiwan is, and no hospital in Nevada is where Taiwan is. The goal of Assembly Bill 347 is to ensure providers are paid fairly for both publicly and privately insured patients [page 8]. Fair compensation is what this bill is about—no undercompensation and no overcompensation. We want to protect against excessive charges to patients. That is a real problem in our country and in our state. We want to simplify the health care payment system because it is hopelessly complex. Nobody really knows what the costs are. Hospital executives do not know what their hospital pricing is. We also want to preserve vital private market virtues. I majored in economics in college; I believe in markets. I want to have a market, but sometimes we have market failures. When the market fails, the government must step in and correct it. This bill will decrease the administrative burdens. You have probably heard about all the paperwork providers have to deal with. A big reason for that is because they have to deal with different insurers with different rates. We can simplify this in very important ways. Here are the principles involved [page 9]. The first is fairness. Ultimately, we want a system that is fair for everybody. We make it fair by raising Medicaid reimbursement rates to address the unfair underpayment to doctors and other health care providers. It is not fair to underpay them. On the private insurance side, we set physician and hospital fees so providers can cover their costs and earn a fair and reasonable profit. That is a very important obligation—they need to cover their costs and earn a fair and reasonable profit. We just do not want them to earn excessive profits. There will be no gouging of patients. The second principle is simplicity. If the state, instead of insurers, is setting fees, we would no longer Assembly Committee on Health and Human Services April 2, 2021 have the complicated and inefficient system of rate negotiations between health insurers and health care providers. We would have one set of rates like Medicare does for people who are over age 65. It is much simpler; everybody understands what the rules are. Patients can know what they are paying; providers can know what they are going to earn. If we set fees at a fair level, we can have a system that works for everybody. The bill will instruct the rate-setting commission to use Medicare rates as a starting point. From there, in situations where Medicare underpays, the rate-setting commission can raise the rates to fair rates. It is important to start with Medicare rates because that is the best we have. In estimating the real costs for doctors and hospitals to deliver care, Medicare has by far the best data. Nobody comes close. If somebody can show me a better set of data, we will put it in the bill, but there is nothing that is better than Medicare. It is very carefully thought through. It is not perfect but asking the commission to start from scratch would make no sense. It would be like if you wanted to buy a house. You could hire an architect and contractor and start from scratch on an empty lot, but it is a lot easier to buy a house that is out there already that may be 90 percent of what you want. Medicare gets to about 90 percent of a fair rate. For that final 10 percent, maybe you need to repaint the house or redo a bathroom. That is a lot more sensible than starting from scratch. That is what we want this rate-setting commission to do. There are two parts to the bill. I will now start going through the provisions of the bill. Part 1 is the provider tax [page 10]. We want to raise Medicaid payments to Medicare levels. I know we have a tight budget. Where are we going to find money to raise Medicaid reimbursement rates? What we do with skilled nursing facilities and what other states do with other health care providers is say to providers, If you let us impose a tax on you, we will more than triple what you give us. They must think about that return on investment. Triple what they pay is guaranteed; it is not speculative. We will follow the model from Senate Bill 509 of the 79th Session. The bill does not mandate the tax. It tells providers if they like the idea of giving us $1 and getting $3 back, they can vote on it. If two-thirds of hospitals agree, there will be a hospital tax. If two-thirds of doctors vote for it, there will be a doctor tax and they will triple their money. That is how that works. The benefits include fairer treatment of patients and providers because with the increased dollars we can raise Medicaid reimbursement rates to fair levels—to what Medicare pays. It will reduce the need for cost shifting to private insurance. We have some guardrails in section 7 of the bill [page 11]. The dollars from the tax must be used to supplement, rather than replace, Medicaid dollars from the State General Fund. It will not be possible now that we have this new source of funding for us to say as a Legislature, We will just reduce our General Fund contributions to Medicaid. We cannot do this. We have to maintain our existing funding of Medicaid. This is to add on to what we are currently funding. If funds remain at the end of the fiscal year, if we overestimate the tax or underestimate how much has to be paid out, the funds will carry over to the next fiscal year and not return to General Fund spending. The money can only be used to increase reimbursement rates for providers. In the conceptual amendment we have added provisions to say that if the Legislature changes the allocation of funds or tries to divert funds, the providers will be allowed to revote on whether they want to continue with the provider tax. Assembly Committee on Health and Human Services April 2, 2021 That is the first part—getting Medicaid reimbursement to the Medicare levels. The second part is the rate-setting [page 12, Exhibit F]. We have to increase the Medicaid rates to be fair. In some situations, we must lower provider fees. The principle is to cover reasonable costs plus fair and reasonable profit. Every provider will get fair compensation under this bill. Ultimately, that is the right thing to do, to make sure everybody gets paid fairly. That means primary care doctors who have been squeezed by insurance and are not paid enough even on the private side will be able to maintain their practices and not have to sell out to a hospital or private equity firm. The rate-setting commission is required to meet this standard of covering costs and a fair and reasonable profit. It is not an option. To avoid duplication of efforts, they will start with Medicare and adjust from there, to make sure we do not reinvent the wheel in Nevada when somebody else has put time and hard work into figuring out how to get close to fair compensation. The providers who think the Medicare rates are unfair—as I said, on average, Medicare comes close to paying about 90 percent of hospital costs—can come in and say, Here is where Medicare is underestimating what we need to cover costs and reasonable profit. Just show us the books, and we will adjust accordingly. An independent commission will set the rates. In the original proposal, we were going to have it done by the Department of Health and Human Services, but feedback from stakeholders persuaded us it makes more sense to do it as an independent commission, so that is in the conceptual amendment. A broad range of stakeholders will participate, and there will be representation from Health and Human Services. Examples of factors the commission will use in setting rates will include the payer mix. Some providers see more Medicaid patients, some see more private patients. To cover costs overall and get a fair and reasonable profit, some providers will need a higher reimbursement rate. Disparities between primary care and specialty services will be addressed. For a long time, we have underpaid primary care physicians. That makes it difficult to have good access to a primary care physician, so we want to address that to make sure they are compensated fairly. And some specialties are underpaid with respect to others; we want to fix that. We want to reward quality of care and efficiency of services so that will be considered. Some providers have seen a sicker population of patients. It costs them more to do that, so that should affect their reimbursement. We want hospitals and providers to have a population health focus. Under our current system, you often lose money trying to prevent disease and maintain the health of your population. We want to reward that so people will invest more in population health. There could be financial hardship from reducing rates because even if people have been overpaid, they have built their system on that basis so we do not want to phase in changes that would cause financial hardship. We want to protect the workforce and quality jobs. If hospitals must reduce costs to reach a fair reimbursement, we want to make sure they do not take it out on their workers. Covering reasonable cost plus fair and reasonable profit—we are not there yet. This bill is important because there are providers who earn more than a reasonable profit. We have data on short-term, acute, general care hospitals—the hospitals where you would go to the emergency department when you are sick or would go to for heart surgery. The graph on Assembly Committee on Health and Human Services April 2, 2021 page 13 [Exhibit F] is data from most of the major general care hospitals in our state. As you can see, the profit margin ranges from a low of 1 percent—that is too low, that should come up—to a high of 23 percent—that is too high. I do not know exactly what the right number is, but it is not in this part of the graph. We have a way to go to get to covering reasonable costs and earning a fair profit. What will be the impact on the private insurance market when we adopt rate regulation [page 14]? We get lower premiums because we are going to have fair costs, not excessive costs. Fair pricing will lower premiums, and we will have greater competition in the insurance market because it will be easier for new health insurance companies to come in and offer plans because, right now, insurers have to create networks based on price discounting. They say to doctors, If you want us to send our patients to you, you must give us discounts. With the state setting rates, there will not be any need for price discounting. In fact, price discounting will be prohibited because we have to protect doctors from insurers that try to drive below the fair rate. We will have greater competition in the insurance market that helps lower premiums. It will be similar to the Medicare Advantage program. Medicare Advantage is the private insurance side of Medicare. You can go into traditional Medicare where you sign up and just go to any doctor. Traditionally, the doctor bills Medicare. Or you can have Medicare pay your premium for a private insurance plan. That is a very robust market. When I put in my ZIP Code for Medicare Advantage, there were 10 or 11 insurance companies with over 40 plans. What is important about it is Medicare Advantage plans all use a common reimbursement structure. They are not required to, but they do. They all follow the Medicare fee schedule. Even though they do not negotiate rates with doctors, they are able to compete with each other and have a very active, thriving market. The private insurance market will do very well under this plan as it does in the state of Maryland where they have significant rate regulation. I covered some of the conceptual amendments. We have some others [page 15]. We will remove hospitals from the provider tax provisions because they are already in Senate Bill 509 of the 79th Session. Probably the most important part of the conceptual amendment is if physicians or other providers opt for the provider tax. That will freeze the medical malpractice noneconomic damages cap at $350,000. Medicaid rates will be raised to the Upper Payment Limit. We say, \"Medicare rates,\" but should more properly say, \"Upper Payment Limit\" to conform to Medicaid rules. If there is not a Medicare rate, the average commercial reimbursement would be used. That is a small tweak. The rate-setting commission will publicly disclose all rates. We need transparency where we have opacity right now. The amendment would provide more time for the rate-setting process in Year 1; we had a short time frame in the bill. Especially for the first year, the new rate-setting commission will need time to get up to speed. We will also add the provision to protect workforce and quality jobs. To sum up, A.B. 347 will improve access to health care for Medicaid recipients [page 16]. It encourages more Nevada physicians to see Medicaid patients. More care will take place in Assembly Committee on Health and Human Services April 2, 2021 physicians\\' offices; less will take place in emergency departments. It provides simplification for providers and insurers. It reduces complicated, difficult negotiations between providers and payers, which is a hassle and a headache for everyone. Providers will not have to manage different rates for different payers. It will increase provider supply in Nevada. By raising Medicaid reimbursement to Medicare levels, Nevada will become a more attractive state in which to practice, not to mention freezing the medical malpractice noneconomic damages. It reduces health care premiums [page 17, Exhibit F]. With increases in Medicaid reimbursement, there is less of a need for providers to shift costs to private-pay insurance. Rate-setting will protect against excessive charges. That means it will lower the costs to the state budget because a big cost to the state budget is the health insurance cost for state employees. It will be a substantial savings to the state\\'s budget, far greater than the cost of setting up this independent commission. It will target regulation of market failure. I majored in economics; I believe in markets, but sometimes the market does not work properly. We have been waiting over 40 years for the market to fix itself in health care. It has not; it will not. We need the government to come in and correct the market failures. This bill does so without the heavy hand of overregulation. Joseph White, Ph.D., Private Citizen, Cleveland, Ohio I am the Luxenberg Family Professor of Public Policy at Case Western Reserve University. I am not one of your constituents, but I have been coming to Nevada since 1972. My sister moved there in 1971, and she is a constituent of Assemblywoman Anderson. She is dual eligible for Medicaid and Medicare. I care about her Medicaid. Thank you for the opportunity to testify on behalf of this legislation, which would directly address the problem of costs of medical care in a way that no other state has attempted, but that is also normal in other rich democracies. I want to point out I did not develop this idea. I have written more about it than most U.S. health policy scholars have, but I have written entirely from observation of what other countries do. What we are talking about here is something that is essentially the main way costs are controlled in most other countries compared to the United States. I would like to emphasize a few points in support of Assemblyman Orentlicher\\'s presentation and would be happy to elaborate by responding to questions. The United States, as he showed, has the highest medical care costs per capita in the world. I want to emphasize that we are unusual for our coverage problems, covering roughly 90 percent of our population instead of 100 percent, but we are more unusual for our costs. Our costs, as a share of our economy, are about 50 percent higher than anywhere else in the world. We are in the range of 18 percent of our economy, compared to 12 percent in Switzerland. In this way, the costs are a more impressive problem compared to other countries. It also means that health care is less affordable even for middle-class persons who, by American standards, are well insured. If you are thinking in terms of what the big problem is for your voters, the bigger problem for your voters is the cost of health care for people who have insurance, not the cost of health care for people who do not. The unaffordability of health care for people who have insurance is a major crisis in the United States, and it is getting worse all the time. Assembly Committee on Health and Human Services April 2, 2021 The question is, Why are our costs so high? There have been various theories over the years, most emphasizing the volume of care and unnecessary care. Any comparison to other countries makes it clear that the U.S. pays more because our prices are higher; and prices are higher, in part, because our insurance system generates much higher administrative costs that are incorporated into physician and hospital costs. And, in part, the cost of insurance premiums is related to the same administrative costs. The problem is not only that prices are high, but they are extremely varied. This means insurers and medical care providers have extra costs; first, in keeping track of all the different prices in all the different contracts, and second, in negotiating all the different prices in all the different contracts. As an example, I was once giving a talk in Paris about the American health care system. I said that the Cleveland Clinic had 1,600 doctors. Everyone went, \"Ooh, aah.\" Then I said it had 2,000 billing clerks. People looked at me in bewilderment. Why would you need 2,000 billing clerks? That is the kind of variation that has been going on. There are various estimates of the excess costs associated with our billing and payment system. They have to be at least 5 percent of total spending and probably much more. In my written testimony [Exhibit H], I provide links to various sources on all this. The variation in prices is also a severe problem. The U.S. system for establishing prices involves wide variation in what each hospital charges to different payers—either insurers or individuals—for the same services, such as a colonoscopy; huge differences in what different providers charge to the same payer; and the surprise medical billing in which we can go to a hospital that is in-network and get a huge out-of-network bill from an anesthesiologist or emergency room physician or other provider who does not work for the hospital. It is important to emphasize that if prices are standardized in the way A.B. 347 would create, surprise bills would disappear. Moreover, so would the incentives to create narrow networks. The main reason for narrow networks is as a bargaining technique for insurers: they seek lower prices from providers by threatening to exclude physicians or hospitals from the \"covered lives\" insurers provide for them. The much higher prices in the United States show that this \"selective contracting\" does not work very well; but it creates confusion and difficulty for patients who just want to go to the doctor or hospital and get help without huge expense. It is hard to overstate the irritations and hassles associated with the narrow networks and the uncertainty about what is covered and what is not; whose care is covered and whose care is not. Assembly Bill 347 would create a version of what is called an \"all-payer” system. In an all-payer system there are multiple insurers, but all or most pay each provider by the same rules. This simplifies billing and payment. It accomplishes most of the savings that could be associated with a single-payer system, or so-called \"Medicare for all.\" There are versions of all-payer systems in many countries, such as Germany, France, the Netherlands, Belgium, and Switzerland. It is also how Medicare Advantage works. Private Medicare Advantage insurers pay hospitals\\' Medicare prices. This was not something this bill tried to do, but it did it by accident because the law requires that providers outside a Medicare Advantage plan\\'s network charge the standard Medicare fees for out-of-network care, to protect Medicare beneficiaries in case they have to go out of network. Because the out-of-network Assembly Committee on Health and Human Services April 2, 2021 plans have to accept Medicare fees, there is no reason for an insurer to contract with an in-network plan and pay more than Medicare fees, so they basically pay the Medicare fees. As Assemblyman Orentlicher showed, there is a lot of market competition between insurers in Medicare Advantage. Basically, A.B. 347 proposes that Nevada set prices with independent insurers in a way that already applies to over 60 million Medicare beneficiaries, 24 million of whom are in Medicare Advantage plans. It takes the simplest approach to setting rates: start with Medicare\\'s rules and then deviate if the physician group or hospital can make a reasonable case. For example, as in Medicare and its indirect medical education expenses and its disproportionate share of hospital payments, there may be arguments that a hospital has extra costs from teaching or from a disproportionate share of uninsured patients. If the Medicare extra payment is not enough, that may justify higher fees. Providers will argue that Medicare payments are inherently inadequate. That is probably because they make their costs fit whatever money they can get. They have a great deal of market power to get money for all sorts of things, some of which many of us would not think are useful, like some of the salaries for administrators. One should be skeptical about the claims for Medicare payments being inadequate for a few reasons. The Medicare Payment Advisory Commission analyzes payment adequacy carefully. You can look at the methodology in Chapter 2 of their annual reports on Medicare Payment Policy. The most recent report came out a few weeks ago. The proposed payment reform should substantially reduce hospitals\\' and medical groups\\' costs, through the savings from simplification of billing. The proposed payment reform would increase income through raising Medicaid fees to the Medicare levels. While some would come from the provider tax, more would be from a new federal subsidy due to the Medicaid matching percentage. Even if right now the Medicare payments are lower than they should be, which the Medicare Payment Advisory Commission would deny, it remains the case that there will be substantial savings to providers and new income to providers from this bill. The Medicare payments would have to be off by some meaningful amount for them to be actually inadequate. Nobody should imagine that any reform will work perfectly, but the approach used for A.B. 347 is straightforward and relatively simple. We should remember that versions of all-payer rate-setting have been implemented successfully around the world. Most other proposals for controlling health care costs involve far less positive experience and evidence. I could direct you to what was in the Patient Protection and Affordable Care Act and what the health care policy wants being proposed over the years. None of them has a track record comparable to the record of administrative simplification and rate-setting simplification we see in other countries with all-payer rate-setting. Thank you for your consideration, and I am happy to try to answer any questions. Chair Nguyen: Assemblyman Orentlicher, are others here to be part of your presentation, or are they here for supportive testimony? Assemblyman Orentlicher: Jolette Goins, KC Christon, and Asia Duncan are here as part of the presentation. Assembly Committee on Health and Human Services April 2, 2021 Jolette Goins, Private Citizen, Las Vegas, Nevada: I would like to share a testimony of the strain our health care policies are for me personally. My interest in the bill is because of the hope that some of these things can be eradicated. I am a senior and have a modest income. I work three days a week and I get social security, but I have health care from my job. I pay what I think is a crazy amount of money for it, but we must have health care. After age 65, you are required to have Medicare, so I am covered by two insurances. I thought this would be good. I thought I would be able to take care of myself and be healthy. I went to the doctor and got a diagnosis. They gave me a plan for recovery, but I cannot afford to do the care because the deductibles are so outrageous. When you are choosing your insurance, they do not necessarily list all the deductibles. You know you are going to pay for office visits; you know you are sometimes going to pay for diagnostic testing and things. That is okay, but when you go and get a diagnosis and they tell you this is what it is going to take to get you in a better place and then you find out that you have to pay this deductible before you can get the work done. This has happened to me more than once. It is very frustrating when you feel like you have taken the right steps, you have taken the right precautions, but at the end of the day you still cannot do the things necessary to have the ultimate for yourself health-wise. Chair Nguyen: Are you finished with your testimony? Jolette Goins: I believe so. Asia Duncan, Private Citizen, Las Vegas, Nevada: I am a small business owner. Today I come before you because it is difficult to pay for health insurance, not just for myself as an individual, but even small group health care plan options for my team are expensive and unsustainable for my business at this time. Health care accessibility and affordable health care coverage, in my opinion, are essential to individual\\'s and families\\' overall health and wellness. I care about the individuals who work for me, and I care about their families. I would love to be able to make health care options available to them, but I do not want to affect my business\\'s ability to profit. The average annual premium for small group health plans are roughly $3,500 to $5,000. On top of several other necessary and mandatory insurance coverages that I am required to have, it was not a feasible option to add health care. Individually, my premium is around $4,000 a year. I went to the marketplace and shopped around to find the best policy and coverage for my family and me, but I am still paying $4,000 a year. Health insurance for me is just one of those \"in the event of an emergency\" situations because I practice a healthy lifestyle and healthy living. Some people who work for me have preexisting conditions and other life-altering illnesses. When I talk to them about health care, they often tell me that if I pay them too much, they will not qualify for Medicaid. I do not understand how Medicaid relates to pay raises. I always thought it was a good thing to get pay raises, but some of them do not want them because they want to maintain their Medicaid. Assembly Committee on Health and Human Services April 2, 2021 I hope my testimony today will allow legislators to consider lowering the cost of health care overall for small groups and small health care plans and for individuals and people like me. Chair Nguyen: Is there another testifier? KC Christon, Private Citizen, Las Vegas, Nevada: I would like to talk about the families that I serve. I work for Acelero Learning, a Head Start program. We serve children six weeks of age to pre-kindergarten. We deal with a lot of families from diverse backgrounds. The pattern I am seeing is the challenge for these parents to have and obtain health care. When they do have health care, the system is quite challenging to navigate. If a simplified way of providing health care is available, that would be beneficial to members of the community. There is a lot of reading and the terminology—folks are having a challenging time understanding what it means and interpreting what it means and what happens if they do this or do not do this. They come to me. I am their first stop. I work with their children at the school, so I get a lot of questions and find myself doing a lot of research just to answer basic questions for the parents. I can understand their frustration because there was some time that I did not have health insurance myself. Being able to navigate the Medicaid/Medicare system in Nevada is challenging. I can only imagine what these parents are going through on a daily, weekly, monthly basis with multiple children, some who have moderate health problems, some who have severe health problems. That is one of the things I would like to present to you today. If that could be considered, I am sure that would be greatly appreciated. Chair Nguyen: Assemblyman Orentlicher, are there any remarks before we open for questions? Assemblyman Orentlicher: We can go to questions. Chair Nguyen: Members of the Committee, please send your questions to me. I will direct the questions to Assemblyman Orentlicher first, so we do not do a round robin where everyone has an answer for the question. He can direct questions to the most appropriate person. Assemblyman Hafen: I appreciate the number of stakeholder meetings you had. I participated in the working group with you. I know it has been difficult working virtually on such a complex bill, but I think your passion to try to bring health care to all parts of our state is something we all agree upon. I know there are a lot of moving parts in the building with a few other bills. I know you cosponsored other bills to help address some of the health care issues in bringing medical professionals to the state. Assembly Committee on Health and Human Services April 2, 2021 Has there been any consideration of what is going to happen with the doctor shortage we currently have in relation to how this bill would be implemented? Would we see an increase or a decrease? Would this be seen as an attractive measure to bring additional medical professionals to the state? Assemblyman Orentlicher: I think this will do a lot to make Nevada more attractive. The low payment on the Medicaid side is a perennial and serious irritant to physicians and other providers. We do not pay them adequately, and they lose money. Being able to tell them we pay at Medicare rates for Medicaid would be a huge benefit and would make this state more attractive. They would not have to deal with multiple insurers, not have to negotiate. The number of billing clerks and other administrative staff that increases the cost of running a medical practice, that number would decrease, and they would be able to bring primary care reimbursement up. Right now, if you are a pediatrician, an internist, or family doctor, it is hard to make a go of it on your own. You end up seeing more and more doctors becoming employed by hospitals or private equity firms. It is much better for them if they can maintain their independent practices, and it is better for their patients. I think there are a lot of benefits. Having a freeze on the noneconomic damages cap—doctors will love that when they are thinking about where to practice. I think this will address the doctor shortage. Chair Nguyen: Do you have any follow-up questions, Assemblyman Hafen? Assemblyman Hafen: I have additional questions, but I will let other members ask their questions and come back. Assemblyman Matthews: I want to echo what Assemblyman Hafen said about your efforts in working on this bill. You reached out to me, and I appreciated the opportunity to get together with you to talk about it. You covered a lot of ground and touched on some of this peripherally, but I hope we can zero in a bit more. You talked about rates and rate-setting. Who would set these rates? How do we ensure that a commission will be educated and informed enough to intelligently evaluate and consider all the relevant market variables and not be conflicted by outside influences in that process? Assemblyman Orentlicher: The commission would have a board with a wide range of stakeholders to make sure all voices are represented and that insurers, providers, employers, workers, and patients are all there to make sure their views are taken into account. It will also have a staff of expert analysts who can look at the data and figure out, as Medicare does now, what are fair costs and what is a fair profit. We have seen, and as Professor White indicated, every other country has been able to do this. We do it with public utilities using a similar model. We do have to properly staff it—both the people who do the data-crunching and the people who are on the board. There are good models out there, and I am interested in feedback in how to design it as well as possible. Professor White might want to add comments. Assembly Committee on Health and Human Services April 2, 2021 Joseph White: One thing is an issue of how you think about what outside influences are. The important outside influences are the people who are asking for more money, and they are going to try to use influence to get more money. I am not sure there are other outside influences that will play on these kinds of things. If you look at the questions of underlying costs, a lot of this stuff like geographic variations and rent and labor costs are already in the Medicare formulas for hospitals. Once administrative costs go down for providers, Medicare rates will be closer, or more certainly adequate. You need an appeals process and a way for providers to make a claim that they are different for some reason. It would probably work the way the appeals process for other bodies works. We cannot be sure it will be perfect, but I think it should be pretty good. I also think we can be absolutely sure the providers with the market power to achieve or extort higher prices will say it is unfair. We know that will happen. Assemblyman Matthews: You referenced experts. An expert in one field is not necessarily an expert in another. What do you have in mind? Are you talking about a combination of health care professionals, providers, economists, and academics? Experts will not necessarily agree. Based on areas of expertise, they may end up in conflict. How do you see that playing out? What fields would these experts be drawn from? Joseph White: Personally, I would like accountants. Some will claim their costs are higher for some reason. I would like to see people who can assess the data used to make those claims. I think there is an argument for having a variety of skills on these panels. Assemblyman Orentlicher has thought more about that than I have. You want a variety of skills and perspectives, but I think one substantial part of it is accounting. Somebody is making a claim about costs. Are they telling you the truth? Do they not understand their own costs? Are the costs actually higher than they are saying? I think that is probably the most fundamental skill set here. Assemblyman Matthews: Would a cost-based rate system incentivize increased costs if it is structured that way? How are we defining \"costs\"? Who would be defining what those costs are under this bill? Assemblyman Orentlicher: That is one of the risks—that people will try to inflate costs. That is one of the advantages of starting with Medicare, because Medicare does a lot of vetting already, of reasonable costs and unreasonable costs. That is when we would have the expert staff—the accountants, economists, and health policy people—put the burden on the providers to show that this is a reasonable cost. It is not to cover all costs; it is to cover reasonable costs. They will have to justify and prove the cost that Medicare does not cover actually is a reasonable cost. The other thing that is part of the rate-setting is rewarding efficiency. Some providers and some hospitals are more efficient than others. The rate-setting commission will take that into account because they will not look at just one provider, they will be looking at the full range Assembly Committee on Health and Human Services April 2, 2021 of providers to get a good sense of which are efficient and which are inefficient. That is something they will consider. The important thing is that Medicare is already doing this and has been doing it for a long time, so we know it can be done in an effective way. Chair Nguyen: I have a question for you, Assemblyman Orentlicher. In the amendment, you have a cap on noneconomic medical malpractice damages if the provider group participates in the provider tax. Will you give me the reasoning behind that? In your presentation, you indicated medical malpractice claims account for less than 1 percent of the cost. Was this the result of conversations with stakeholders? How did that amendment come about? Assemblyman Orentlicher: Change can be scary to people, even if it is the right thing to do. When you propose significant change, people get nervous. To provide reassurance that we are trying to do the right thing and to make this a more appealing opportunity for providers who are trying to decide whether to vote for the provider tax, we added the protection on medical malpractice, which causes anxiety for them. Anything we can do to provide reassurance that this is the right thing to do for them and that they and their patients will be better off, is helpful. Chair Nguyen: Where did you get the data that said medical malpractice claims only represent a small percentage of health care costs? Is that in our state? Is that nationally? Where did the 1 percent number come from? Assemblyman Orentlicher: That number is widely accepted national data. I will try to find a particular source, but that is the standard view of the total cost of the tort system. People may ask about defensive medicine. It does not include defensive medicine; that is harder to pin down. You can measure how much is spent on liability insurance and court cases. That 1 percent is a pretty good number. Defensive medicine is in the minds of doctors, so some estimates may go to 3, 4, or 5 percent. Even if it does not cost you dollars to go to court, there is a psychological cost to having to defend yourself in a lawsuit. That does not show up in the 1 percent of economic costs. Chair Nguyen: There are more questions from members. Assemblywoman Peters: The work you put into this bill is impressive. I have been invited to many of the meetings and was able to sit in on a little of it. I have questions about the data collection you referenced. The data would be used to determine payment amounts. What data is currently being collected? How would we have to modify the collection practice? Where would the data collection be hosted? Assembly Committee on Health and Human Services April 2, 2021 Assemblyman Orentlicher: One of the advantages of structuring it the way the bill does is they start with Medicare, and hospitals are already filing Medicare costs reports. Medicare has already accumulated a lot of data. The second part is that if providers think Medicare is not adequate, they can come before the commission. They can ask to raise the rate by 5 percent, or 10 percent, or whatever they think is right. They may say it needs to be raised by 40 percent. Then they have the obligation to provide evidence and the data to support their claim. The data will come to the commission through the petition process because you cannot demonstrate you need an increase in rates unless you show us your cost data, so it will inevitably follow from the process. Assemblywoman Peters: I am a data nerd and love technology, databases, and data management. I am having this fantasy of a process in which we could use artificial intelligence to run an algorithm on data input by these entities and leave the experts and people out of it after we oriented a process that was amicable—a little science fiction for the Committee. My other question has to do with some of the data you presented related to the difference in cost between medical procedures in the United States versus other countries. Did those studies account for the difference in the cost of living expenses in the United States? Living costs here are different than they are in Taiwan. Would you explain how that is normalized? Assemblyman Orentlicher: After I finish, Professor White can provide more information. I do not know about the cost of living in Taiwan. I was planning to use Japan, but I had trouble getting the numbers from Japan. Japan has a much higher cost of living, and their prices would not look that different from Taiwan\\'s. The cost of living does not explain the differences. The major difference is governments negotiate. You have a single negotiator on the purchaser side, the government. That is just how government negotiation works. The government negotiating has more leverage than insurers. We think of insurers as being big, bad, and powerful; but compared to a government, they do not have the same kind of negotiating leverage. In a lot of communities, hospitals do. If you are the only hospital in the community, or the Cleveland Clinic, or the University of Texas MD Anderson Center, or a must-have hospital patients want to have in their network, then they have a lot of negotiating leverage. When the government is negotiating on behalf of all patients, you get a different result. That is why you see the lower prices. Japan has a much higher cost of living than we do, and their prices look a lot like Taiwan\\'s. Joseph White: There are even situations where the government does not set the prices. In Germany, the insurers get together. The system is set up so they get together and negotiate, but it has the same effect. What you are doing is concentrating the market power among the insurers. That is a way that does not exist in the United States. Although people complain about them, the striking thing about American insurers is they are wimps. They are bad at negotiating prices, partly because they have a choice. They are middlemen. On one side, they are negotiating with individual employers who are small compared to them; on the other side, Assembly Committee on Health and Human Services April 2, 2021 they are negotiating largely with concentrated hospital networks. In many communities, there are three cardiac care groups. They must make a choice. Do they negotiate harder with the people with whom they have less market power, the providers, or with their customers? The answer is it is easier for them to pass the providers\\' demands on to their customers. What their market power means is that there are not that many insurers, so there are not many places for the customers to go. Our insurers are weak. On the question of comparing costs, you cannot simply use exchange rates to turn the Japanese yen into dollars at the common exchange rate and make the comparison. That is somewhat indicative, but the fact is that there is only so much it gets you. There are a lot of analyses that have gone into greater depth. One thing is to show the big difference in percentage of GDP [gross domestic product] because gross domestic product includes everything in the economy, so if we are at 18 percent and somebody else is at 11 or 12 percent, then we really must be doing something more expensive. If you look at what we are doing, it is prices, not volume. Some of that is for drugs. This does not really address drugs, which is a different problem, but a major one. The other side of it is there have been people who tried to control for local costs of living. Back in 2007 and 2008, McKinsey [the McKinsey Global Institute] did a detailed study. Their adaptation and estimates were based on controlling for underlying cost of living differences to at least some extent. They still found the same basic story, which is that the difference in cost between the United States and other countries is due to prices and administrative costs. It is important to understand what spending less would mean. On the one hand, probably on average—not in every country, for instance, not necessarily for nonhospital doctors in Japan—American doctors are paid more. Doctors will have significantly lower costs because they will not be paying all these administrative staff. That means you can pay them lower fees, but they will end up ahead or at least equal. If we are saying there is a lot of unnecessary billing work, then I admit we are saying there are some jobs that will have to go away—because if you have those 2,000 billing clerks at the Cleveland Clinic and you simplify, there are job losses. When you are doing your calculation of whether a hospital needs more money, if the CEO is making $3 million, then maybe you do not want to accommodate that in the claim for more money. So there are potential losers. On the other hand, the winners will potentially be everybody else. What we are talking about is a situation in which even people with good insurance are losing it. The big beneficiaries of the non-Medicaid part of this plan—Medicaid is improved by paying higher rates so people with Medicaid can get better services—are the people who have insurance through their employers. As costs go down, insurance will be much more affordable for employers; the employers will have less need to cut benefits the way they have been doing that. Currently, the increase in costs in the system has its biggest effect on people who are getting insurance through their employers. Most of the people who are getting it through Medicare—well, Medicare\\'s prices are regulated. For people who are getting it through Medicaid, it is a different problem. The people getting it through the marketplaces, Assembly Committee on Health and Human Services April 2, 2021 their premiums—if you are under 400 percent of the federal poverty level—are limited already. The big winners from controlling health care costs more effectively in the system are employers, including the State of Nevada. Assemblywoman Peters: Thank you for breaking that down a little more. Calling someone a loser for reducing his or her annual pay from $2 million to something less does not seem like that big a loss to me compared to someone not having to be buried for the rest of their life for a hospital bill because their child fell off a bike. The costs and benefits balance must have some perspective. Thank you for those responses. Assemblywoman Krasner: If somebody breaks an arm and needs to go to an orthopedic surgeon, would the orthopedic surgeon who is skilled and has been doing surgeries on broken arms for 20 years be paid the same as an orthopedic surgeon who has been doing surgeries for 6 months? Assemblyman Orentlicher: Will we have different rates for different providers? Potentially. The bill includes a provision to say quality of care should be taken into account. I think that is a good idea. That said, quality-based payments do not have a very good track record. It is a good concept in theory, but in practice we have found it has been difficult to adjust reimbursements based on quality of care, although it has been tried for a long time. The evidence is not good for its effectiveness, but the bill includes it. If a provider could demonstrate that he or she is providing a higher quality of care, that should be rewarded. Professor White said we may lose some positions for billing clerks. Other employers who have lower health care costs will be able to hire more workers. I think that overall, we are likely to get more people working when you lower health care costs. If you lower the cost of operating the business, you can expand your business more quickly and hire more workers. Assemblywoman Krasner: Would there be a way for a provider, a doctor, or a hospital to appeal the rate that was found to be applicable? Assemblyman Orentlicher: Yes, they could come in and say, We think we should have a higher rate. They would get a response from the commission, and there would be an appeals process within the commission as there is within Medicare. They could challenge and ask the commission to reconsider its response. Chair Nguyen: Do you have any further questions, Assemblywoman Krasner? Assemblywoman Krasner: No. Assembly Committee on Health and Human Services April 2, 2021 Assemblywoman Titus: Thank you, Assemblyman Orentlicher, for the presentation and the time and effort that you have put into this bill. This nationwide discussion has been going on for decades, and to solve the nationwide problem in a couple hours\\' testimony is a heavy lift for anybody. I believe these are conversations well worth having. I would like to go to the bill itself and ask some questions pertaining to the bill, as opposed to the concept of health care and its issues in our nation and worldwide. The amendment you added plays along with some of what Chair Nguyen asked regarding section 6 of the conceptual amendment about the provider groups. If they choose to join the provider tax, will there be a cap on the economic [noneconomic] damages? I am curious about that chapter in Nevada Revised Statutes (NRS). What will happen to providers who do not sign on? Will they face unlimited exposure? Would you clarify that for me? Assemblyman Orentlicher: The way the provider tax has to work under Medicaid rules is if you apply it to a class of providers—hospitals are a class, physicians are a class, dentists are a class—you could subdivide physicians and say, We only want pediatricians to come in or emergency doctors to come in. There are paths to do that, but it is very difficult to do it that way. Let us assume all doctors come in as a class. That happens only if two-thirds of doctors in the state vote to assume the tax. Then, Medicaid requires that everybody be in. If you voted against it—if you were one of the 30 percent who voted against it—you would still pay the tax. Assemblywoman Titus: What about this economic [noneconomic] damage in your amendment in section 6, subsection 5? It talks about the noneconomic damages shall not be raised and applied to a provider. Is it on all providers in the group? What about those who have not joined in a group, like me? I was in private practice at one point in my career. Would those be protected under that? Assemblyman Orentlicher: If physicians, as a class, choose the provider tax, then every physician in the state would get the protection of the freeze on the noneconomic damages cap. Assemblywoman Titus: Under section 6, subsection 2, the bill talks about future legislators declaring they would not raise the maximum amount of noneconomic damages. How can you commit a future legislative body to do something? How can you put that in a statement? We do not know what the next group makeup will be of this body. We cannot commit the future legislative body to what our decisions are today. We can pass NRS, but they are free to change it. I am worried this commits us to prevent future legislation. Would you clarify that? Assembly Committee on Health and Human Services April 2, 2021 Assemblyman Orentlicher: You are correct as a matter of legislative and constitutional principle. We cannot bind future legislatures. That said, this would say to future legislatures that we passed this bill; it had many parts. It is an integrated whole. If you start picking out one part, it is like unraveling a sweater when you start pulling on the thread, so that would be an inappropriate thing to do. Just to make sure that you think twice about trying to do something like that, if you do that, then section 6, subsection 6 of the amendment talks about how the Department of Health and Human Services will have entered into a contract with the provider group as part of the process of imposing the provider tax. If a future legislature raises the noneconomic damages cap, that will cancel the provider tax so that a future legislature would have to recognize that if they raise the noneconomic damages cap, they will have to start sending back tens of millions of dollars to the federal government. They will have to cut reimbursement rates to providers who take care of Medicaid recipients. And they will have to compromise access to care for Medicaid recipients. That is a price future legislatures will not want to pay. Assemblywoman Titus: I have lived in the real world of having an office practice, private practice, and working for the hospital district. I know that Medicare does not reimburse at cost now. It is difficult getting doctors to see Medicare patients. Your concern is that it is even worse getting doctors to see Medicaid patients because they pay at a lower rate. Right now, in Nevada, Medicaid pays 95 percent of the Medicare rate. At least that was the general reimbursement until we went into special session when we lowered Medicaid reimbursement an additional 6 percent, but it looks like we will go back up on that. Let us say Medicaid pays 95 percent of what Medicare pays. We know Medicare does not pay for our cost of doing business. I would see whoever walked through my office door. The issue was not my seeing them. The issue was my getting them referred to a provider who would see a Medicaid patient. I could not get them to see a Medicare patient. Where are the private insurers going to go? You are obligating private insurance companies, too, not just Medicaid and Medicare. We are talking about a global price control here. You are going to obligate private insurers. How will that encourage anybody to practice health care in Nevada? Although your intention is to have providers see more patients, I have concerns this is going to do the opposite based on what this bill presents today. I am anxious to hear some more discussion on it, but I am very concerned about price-setting and how that will impact me as a provider getting a patient whom I could not get seen for Medicare now, let alone getting them seen for Medicare in the future. This may affect Medicaid rates and people who see Medicaid and Medicare patients. For those who do not see these Medicaid and Medicare patients, is this going to force them to accept these same rates? If so, will there need to be changes in federal government regulations? Assemblyman Orentlicher: I am confident that if doctors are promised they will be paid fair reimbursement for all of their patients—perhaps with Medicaid, not quite all the way, but pretty close—that overall, they will receive fair reimbursement and will not have the hassle of dealing with negotiations with insurance companies and they will have extra protection against liability for malpractice. I think that is a pretty good deal. I am not worried about the appeal of that to Assembly Committee on Health and Human Services April 2, 2021 doctors around the country. For the doctors who want to earn excessive reimbursement and more than a fair income—I think we will lose some people like that. From what I know about doctors, from what I know from myself as a doctor, there are going to be more doctors who will be attracted to Nevada than will want to earn excessive reimbursement. Maybe that is not good for patients, having doctors like that who care so much about how much they earn that a fair profit is not adequate. If they are not happy not earning excessive profits, that makes me worry about how they deal with their patients. Assemblywoman Titus: Would this commission determine arbitrarily what they decide is a fair reimbursement? The commission determines that, not the providers. Will the commission take into consideration research, development, advancing, or being able to grow a practice? Is it anywhere in the bill that the commission is going to allow for a reasonable profit margin so you can reimburse someone who is building a bigger practice, getting new equipment, getting modernization—the costs of doing business that every other business has to look at? Will that be a factor considered? I do not see it in the bill. Assemblyman Orentlicher: That sounds like something that would be part of the concept of a reasonable profit. One of the reasons to have a profit is so that you can invest in expansion for the future. It is certainly something we could put in to make sure it is clear. Chair Nguyen: At this time, I will open the phone lines and take testimony in support of Assembly Bill 347. Alex Camberos, Private Citizen, Henderson, Nevada: I would like to speak in support of A.B. 347. I used to have Medicaid. It saved my life. I was able to see doctors and specialists who could help diagnose my critical chronic illnesses. Eventually, I had to find my own insurance. I did my research. I found what was available for me, what covered my doctors. Even then, I still struggled to pay my premiums and my co-pays. I think it is a struggle that a lot of my friends experience. In Nevada, there are not enough folks who want to accept Medicaid because their reimbursement rate is too low. They cannot always see a doctor because they cannot afford to, even with insurance. I think what the bill brought forth by Assemblyman Orentlicher proposes is a good step in the right direction to further provide affordable health care for Nevadans. I urge this Committee to support this bill. Robert Gullickson, Private Citizen, Las Vegas, Nevada: I am here to voice support for Assembly Bill 347 to help ensure that health care reimbursements are fair for both patients and providers. I want to clarify that today I am speaking on behalf of myself and not on behalf of the University of Nevada, Las Vegas School of Medicine or the United States Air Force. Assembly Committee on Health and Human Services April 2, 2021 As a second-year medical student, I have had the privilege of volunteering in clinics aimed at helping underserved populations both in southern Nevada and in northern Nevada. A lot of times these patients are not seen due to lack of providers who accept Medicaid. As a result, a lot of them slip through the cracks in our health care system. It is my belief that this bill will improve access to health care for Medicaid patients and, subsequently, to reduce the incidence of many preventable diseases that Nevadans are facing. I believe this bill will help address the physician shortage in Nevada by providing fair compensation to physicians. Hawah Ahmad, representing Clark County Education Association: We want to thank you, Assemblyman Orentlicher, for bringing this bill forward. We are in support of it because it is a very much-needed conversation that we have to have, given that we are in the midst of a pandemic. We know that we are about to foresee some more social, emotional, and learning issues that we are going to have to address in addition to our health issues. If we do not start this conversation now, we are going to be hurting down the road. We look forward to seeing this bill progress and to figuring out how we can come together in a bipartisan fashion to address the health care needs of every Nevadan. Marlene Lockard, representing Service Employees International Union, Local 1107: We appreciate the opportunity to work with Assemblyman Orentlicher in his working groups to make this the best bill that could possibly be made and appreciate the opportunity to provide input. As part of this effort, it is imperative to acknowledge the heroic efforts undertaken by the health care workforce during the COVID-19 pandemic. As efforts to vaccinate and control the pandemic continue, it has become clear that the workforce is exhausted, and solutions are required. Health care workers have always been on the front lines of caring for our communities, but under the microscope of the pandemic, the industry and the rest of society are clearly witness to their dedication, bravery, and stress. We are in a time of crisis, and health care workers are stepping up across the country and in Nevada to save lives, sacrifice their own health, and work to save the health of our communities. [A document from Marlene Lockard was also submitted but not discussed and is an exhibit for the hearing, Exhibit I]. Chair Nguyen: We can go to our next caller in support. [There was no one.] At this time, I will begin testimony in opposition to Assembly Bill 347. I plan on giving them a bit of additional time because of the complex nature of this bill. The stakeholders represent some key industry players who are part of this conversation. I will ask them to limit their remarks to the four to five minutes we talked about, then stay on the line to answer questions. Jaron Hildebrand, representing Nevada State Medical Association: I would like to thank Assemblyman Orentlicher for meeting with us and going over his proposed amendment and bill with us. We just cannot come to agreement. Assembly Committee on Health and Human Services April 2, 2021 I would like to start with the provider tax piece. We are troubled by the fact that provider taxes would not be borne equally across the health care providers. There are many provider types within the Medicaid system that deliver care to patients that do not receive reimbursements. It is fundamentally unfair to select providers, skilled nursing facilities, hospitals, and physicians to bear the burden while other Medicaid providers—home health agencies, personal care, hospice, behavioral health, et cetera—who participate within the Medicaid system are exempt. Right now, there is only one state in the entire nation that has physician-specific provider taxes, the state of Minnesota. Those taxes are currently being phased out. There are certain requirements that we need to implement for the tax to actually work. Assemblyman Orentlicher alluded to the fact that over 60 percent of my providers in the state would need to participate. Our provider groups are not homogenous. We have a myriad of specialties and within those specialties we have subspecialties. Many of those specialties do not have a fair amount of Medicaid beneficiaries, but we have some that would make sense. For example, we can take a pediatrician in Clark County as a hypothetical. Some specialties like pediatrics have a subspecialty within them. Their practices can see 60-plus percent Medicaid beneficiaries. About 20 percent have the commercial payers. We need that 20 percent to absorb those costs because the Medicaid reimbursements are losing 40 cents on the dollar each time a physician sees a patient based on the lack of reimbursement. There are Centers for Medicare and Medicaid Services (CMS) rules that need to be implemented. The nationally approved provider tax implemented on skilled nursing would make sense because it benefits from this model. They have a set population group they serve. It makes sense for a skilled nursing facility to implement a provider tax to get a higher reimbursement rate on Medicaid. The taxes must be approved by CMS on three conditions: taxes must be broad-based and imposed on all providers, they must be uniformly imposed both on Medicaid and non-Medicaid providers, states must not hold providers harmless for the burden of the taxes although there is a safe harbor clause, and providers cannot exceed 6 percent of their revenues either putting into the tax or receiving the tax. The Peterson-Milbank Program for Sustainable Health Care Costs and the Primary Care Collaborative (PCC) picked Nevada as one of the five states to study this exact bill—sustainable health care costs. We would prefer to see how we look at it and get hard data from the PCC. I would also like to touch on the rate-fixing piece. We can appreciate the fact that the Assemblyman would like to increase the Medicaid reimbursement rates because that is a major need for Nevada; however, we do not think the provider tax is the right mechanism due to the fact that our physician community with its various specialties could come to a 60 percent threshold to trigger the provider taxes for the reimbursement rates. With the medical malpractice piece, I do not know that is the right mechanism for the cap or for discussion on that piece. The Division of Health Care Financing and Policy produced a document in 2018 stating that aligning Medicaid rates for fiscal year 2018 would require an additional General Fund appropriation of almost $86 million and an additional $88 million for fiscal year 2019. That was close to $175 million just for those two years. This is a new biennium; perhaps the costs Assembly Committee on Health and Human Services April 2, 2021 could be an even further burden to the state. The $175 million is specific to fee-for-service rates. We still have 72 percent of all our Medicaid beneficiaries that run through managed care organizations (MCOs), which are based on contractual rates with physicians in our health care system. It is completely separate from fee-for-service. I have no idea how you would impose a provider tax on a provider running everything through an MCO by contract with the MCO. Those are my questions. I think the rate piece would be a deterrent to physicians coming to Nevada. I would like to explain how significant our provider shortage is. To get to the national average, for family medicine we would need an additional 288 providers. In internal medicine, we would need 211 physicians. For pediatricians, we would need an additional 244 physicians. For general surgery, we would need 123 additional surgeons. For obstetrics and gynecology, we would need an additional 111. I appreciate Assemblyman Orentlicher for trying to increase the Medicaid rates to a Medicare rate level, but we feel that is unsustainable for our small businesses and our small practices. We worry that would be the end of private practice and that doctors would become employed physicians. Those are our biggest concerns with this bill. Tom Clark, representing Nevada Association of Health Plans: We are the private insurance carriers here in the state. We make up only 19 percent of the health insurance marketplace. Our opposition comes down to the relationship that the health insurance providers have with providers. The impacts of the rate-setting commission and setting up those rates are going to send a ripple effect throughout the entire market. The Department of Health and Human Services, the Division of Insurance [within the Department of Business and Industry], the public and private insurers—every aspect of health care has been trying to attract doctors to Nevada. Our biggest concern is not necessarily the reimbursement rate, although Medicaid reimbursements are well below what they need to be. Our concern is geography and demographics. When we look at attracting these doctors, we recognize as private insurers that there is a difference between a provider in Elko, Genoa, Carson City, Reno, or Las Vegas. Will the rate-setting commission see the difference? Will the rates be set at a rate that is taking in all those variables? Assemblyman Orentlicher has said that the commission may, but nothing in the bill states they will take those geographic and demographic concerns into account. For example, we need more African-American, more Hispanic, more LGBTQ providers in Nevada. We fear that setting one rate could send that ripple effect throughout the marketplace and not only keep those doctors from wanting to practice here, but also make it harder to retain the doctors we have. I also want to talk about the context of A.B. 347 and what is happening within the health insurance system in Nevada and other pieces of legislation. There is an all-payer claims database (APCD). The all-payer claims database was Senate Bill 472 of the 80th Session. It did not pass, but the Patient Protection Commission picked up the ball. There were hearings in the Legislative Committee on Health Care during the interim that would create the APCD. While we were opposed to it back in 2019, because of the time that was taken to look at what the database could do and the infrastructure for doing it, we now support the legislation as it is amended and going forward. It is also important to recognize that is just Assembly Committee on Health and Human Services April 2, 2021 the collection of the data. The data is going to be used down the road to set policies like A.B. 347 contemplates. If Senate Bill 40 passes and the bill Assemblywoman Carlton has that addresses the APCD passes, that creates the infrastructure for us to collect that data, we can have a stronger policy conversation about the health system. The Patient Protection Commission recently took testimony on a rate benchmark study they are going to move forward with. The information from that study could also provide integral information toward this plan. As I sit here contemplating my testimony, the other thing that comes to mind is that many of the bills this Committee has heard and that we are seeing at the Legislature address telehealth. We are in new times. Will the rate-setting commission take into consideration the issues around telehealth and how a provider is reimbursed based on the mechanism by which they provide care? The other thing I will mention is if this piece of legislation passes, we are very concerned about the effective date because there is no way we can stand up this type of system this year. For example, in the conversations we have had on the all-payer claims database, the infrastructure just to collect the data could take up to two years to set in motion. I will remain online for any questions. I want to thank Assemblyman Orentlicher for having the stakeholder meetings and the numerous one-on-one meetings. We had this conversation with him; we addressed our concerns one on one. James Wadhams, representing Nevada Hospital Association: Even though we are appearing in opposition, I want to start out on a positive note. Assemblyman Orentlicher has put in time and thought and has identified a major problem in this state; our constituents\\' access to Medicaid providers. The Medicaid reimbursement for hospitals averages about 57 percent of cost, which is substantially lower than even Medicare. The attractive opportunity to eliminate that deficit certainly would levelize a lot of costs that have to be shared otherwise. The problem, I think, is that raising money for Medicaid is truly a problem, and without that you cannot achieve even what has been perceived and represented as having been done in the state of Maryland. Maryland has Medicare, Medicaid, and all the providers under a common system. The way I read this bill, it would not include Medicaid or Medicare, so it would probably end up institutionalizing the problem of cost-shifting that Assemblyman Orentlicher clearly identified. As to the rate-setting commission, it seems to be roughly patterned after a public utilities commission regulatory system. It is easy to think about it in terms of what we see with Nevada Power, Sierra Pacific Power, NV Energy, or with other utilities that are regulated and are truly monopolies. They are monopolies because they are given a service territory and a franchise of service. The question is, is this really a competitive market? We do not have a single seller; we do not have an NV Energy in health care. Is there a restricted entry? Certainly not; in fact, the problem is the reverse. There is no restriction on entry, and we cannot develop the workforce that Jaron Hildebrand from the State Medical Association identified that we are so short of. On the hospital side, Elite Medical Center was developed in southern Nevada in the last few years. There is no bar to entry at all. Is there a lack of Assembly Committee on Health and Human Services April 2, 2021 innovation in the marketplace? It would be an indicator of a monopoly. That clearly is not the case. We have NICUs [neonatal intensive care units], burn units, trauma centers, and stroke centers—a wide array of services—and the technology is here. The comment that was made by an earlier speaker is worth mentioning. These past 13 months have been an extraordinary challenge for the health care system. It is fair to say the health care system has been stretched like a rubber band. The institutional capacity was identified early on by Governor Steve Sisolak as something we had to protect and make sure it did not get overrun. The personnel who staffed those hospitals from the physicians to the nurses to, frankly, everybody who keeps those hospitals operating have been a credit to their effort and to the ingenuity and innovation of those hospitals to allow that expansion and contraction to occur in a way that just last fall had a tremendous peak that was at least three times what we thought was our peak. I only mention \"peaks\" because the statistics show that our cases seem to be on the rise again. I would not want to predict a surge; I hope that does not occur, but that is an important issue for our current, very fragile health care system that was stretched financially in the last year. As Tom Clark mentioned, this is a competitive market. We have insurance companies competing for their customers. We do not have a concentration of one or two providers; we have major providers in direct competition. The University Medical Center, as a public hospital, is a major anchor hospital. We have the HCA facilities, the Valley Health System, Dignity Health, Renown Health, Prime Healthcare, and lots of nonmajor players that can be used competitively. It is a highly competitive market. While the problems that have been identified are representative and clearly problems we have because they impair access to health care, a rate-setting commission does not really address those problems. That is why we are in opposition to this bill. There may be other ways to approach this. I concur with Tom Clark when he referenced both the study being done by the Patient Protection Commission and the all-payer claims database that will begin to give the data that is going to be necessary to evaluate how you make these changes. Professor White caught my ear. The point Assemblyman Orentlicher and Professor White made so cogently is that we cannot compare Nevada to other countries; we have to compare our country to other countries, which suggests that the approach may need to be dealt with on the national level. We have had a change in the administration. President Joe Biden is getting his feet on the ground. The opportunity for the changes we saw in health care in the Consolidated Appropriations Act of 2021 that was passed generated trillions of dollars, and other actions that are taking place at the national level could very well provide some of the relief that will alleviate the problems we face with a highly stressed workforce and a capacity crunch. I think the problems we are dealing with are more on the national level than the local level. Contracting is always difficult. I respect that comment. We hear complaints about how difficult these negotiations are, so that does not suggest that these are being done by one-sided transactions with one person winning and the other person losing. These negotiations would not be tough if they were not being aggressively negotiated by both Assembly Committee on Health and Human Services April 2, 2021 parties. And there are multiple parties to negotiate with. I think this rate-setting commission is an interesting idea and raises a lot of points to be discussed, but it probably is not the solution at this point in time in the marketplace. I would be happy to stay on the line for any questions. That concludes my comments at this moment. George Ross, representing HCA Healthcare: First, I would like to compliment Assemblyman Orentlicher. He has put a tremendous amount of thought into this. We thank him for the time he spent going over this bill with the hospital industry. I would like to make a super compliment for the way he made the case for Medicaid rates. The most important improvement you could make to health care in Nevada is to raise Medicaid rates to match those of Medicare. I have never seen a more persuasive case for it. I just hope it was more persuasive than what we have seen over the last two decades. We are very grateful for last year\\'s increase. I would like to echo James Wadhams that Nevada is not Maryland, it is not Massachusetts. It does not have great teaching hospitals; it does not have a panoply of wonderful, high-level doctors; it does not have massive access and quality. Instead, we are forty-fifth or fiftieth in every criteria. We are a growing state. What we have to be concerned with as we continue to grow is building more rooms, adding more beds, bringing in more doctors, and providing more investment. Until we meet those needs, that has to be the number one consideration. We should not be looking at bills that are going to retard and make that less likely. What we need to be doing is encouraging, not discouraging, investment. What is important here is the question of what costs are considered. Medicare only covers 89 percent of the costs. We can argue, and I heard Joseph White and Assemblyman Orentlicher imply those are reasonable costs. There are quite a few costs that are not there, a lot of costs hospitals incur are not recognized by that commission, and the return is based upon some but not all of the costs. The actual return the hospital sees will be significantly less than a fair and reasonable return. Hospitals and investors make their decisions based upon their own costs, the way they read the costs, and the return they see, not on the costs that a commission may see. That is critical. We heard the sponsor and his expert talk about how great this would be for consumers and customers of insurance companies, but there is not one thing in this bill that requires an insurance company to pass on any of those savings to the employers or the patients. There is nothing in there to require them to reduce deductibles, to reduce co-pays, to reduce co-insurance. There is nothing in there even to make them pay the rates the commission would set. We cannot charge anything but that, we cannot ask for anything but that; they do not have to pay it. I remind you all that a large portion of the payers in this state are Employee Retirement Income Security Act of 1974 (ERISA) plans over which we have no control. Those are critical points. Assembly Committee on Health and Human Services April 2, 2021 I would also like to point out that we were told this would eliminate surprise billing. We already did that last year, so it is already done. Additionally, we are concerned about the composition of the commission. That must be a very fair commission; it has to be a very balanced commission. In this bill, we have to have a way to appeal not just a commission decision because that is not in there either, or the timing of their decisions, or the timing of when they have to answer an appeal. Time is money. The longer we have to wait, the more one is dissuaded from making investments. We also have to have a way to appeal to the members of that commission if, in fact, we believe they are strongly biased in one way or another. I had a personal experience in the early part of my career in managing a group which kept an oil company\\'s refining and marketing from breaking the rules. We had a massive number of rules on price controls. You end up spending most of your time and manpower figuring out how to be on board with the controls, how to make money out of the controls, and less time on figuring out good investments. In terms of cost savings, we were told we would be able to get rid of tons of administrative clerks. I remember going through all these cost cuttings. If you have a hundred bills and every one is different and you have a hundred bills to different entities that are exactly the same amount, you still have a hundred bills and you have a hundred entities to whom you pay and you have to keep track of them all. So you are not really going to save all that many people. I would have to emphasize again, we have to look at our own costs. I will remind you of the role Sunrise Hospital and Medical Center plays in the community. We are the largest Medicaid provider in the state. Forty-two percent of our patients are Medicaid recipients. Another 6 to 8 percent are uninsured, which basically means they do not pay. We have a large Medicare customer base. Only 16 percent of our patients use commercial insurance. We must get the money from those commercial client customers to pay that gap. I know that Assemblyman Orentlicher thinks this rate will solve that problem. He also says he wants to reward efficiency. We think we are extremely efficient. He wants to reward the severity of caseload. We have a comparatively high severity. If we get a higher rate to balance our poor mix, our efficiency, and our severity, we will be above the market and nobody will want to come. It is our experience that insurance companies value what they have to pay at a higher level than other factors. All of sudden we will be stuck, and we cannot bargain. Today, you could sit down and make a bargain with various companies, payers, and plans, and balance all the contents of that in such way that they are happy enough to come to the hospital as a customer and we are able to get enough money to pay and fill that hole. Under this system, I have no confidence that would be possible. Madam Chair, thank you very much for holding this hearing. It has been a balanced and fair hearing. Everybody is getting a fair chance to say his or her piece on what could be one of the most important bills that I have worked on in my 30 years of lobbying in Nevada. Assembly Committee on Health and Human Services April 2, 2021 Chair Nguyen: Thank you. I wanted to give you the opportunity to correct yourself. I assume you did not mean to say that our teaching hospitals at University of Nevada, Las Vegas and University of Nevada, Reno were not excellent and not growing and not moving up in standings, but we just do not have the number of teaching hospitals that a state such as Massachusetts has. George Ross: They are doing very well. Chair Nguyen: I will go to the phone lines for testimony in opposition. Testimony will be limited to two minutes. Susan Fisher, representing Nevada State Society of Anesthesiologists; and the Nevada Orthopaedic Society: We are testifying in opposition to A.B. 347. We appreciate the time Assemblyman Orentlicher spent with us, but we just cannot get there. No state has shown this provider tax to work, not one. Where it has been implemented, it has either been repealed or there have been no opt-ins. After several Medicaid cuts over the last 12 years, including a massive 43 percent cut for anesthesiologists during the Great Recession, this tax provides little assurance that more cuts will not happen. The economy goes south, medical providers get cut, and rates do not come back up accordingly when the economy rebounds. At a time when we are facing provider shortages and after the past year with provider burnout, this is not the time to introduce into Nevada\\'s already overstressed health care environment an experiment that has failed elsewhere. We urge you not to process A.B. 347. Dan Musgrove, representing Valley Health System of Hospitals: I will not be redundant. I appreciate the last comment you made before turning it over to more testimony in opposition. Nevada, this Legislature, and hospitals have worked very hard on expanding our graduate medical education program. The Valley Health System, including our Valley Hospital, runs about 75 medical students through our hospital every year, and we are looking to expand that program. You heard from Jaron Hildebrand that Nevada could become a place that physicians see as unfriendly. We work on the effort to train those doctors, and they end up leaving and heading elsewhere to pastures that are much greener. We certainly do not want to get back to McCarran International Airport being our health care facility of choice. I want to thank you, Chair, for allowing us to testify, and the sponsor for all the time he spent with all of us to try to listen to our concerns. Connor Cain, representing Henderson Chamber of Commerce: I would like to acknowledge and thank Assemblyman Orentlicher and Natalie Johns for all their work on this issue over the past few months. This included a meeting with the Henderson Chamber. Unfortunately, the feedback the Henderson Chamber has received on A.B. 347 is that it exacerbates existing problems in our health care system. One issue to Assembly Committee on Health and Human Services April 2, 2021 highlight is that the theoretical foundation of A.B. 347 is built on Medicaid rates being raised to Medicare rates, but the bill does not ensure this will occur. I will conclude by again thanking Assemblyman Orentlicher for his tireless work, but we are opposed to A.B. 347. Brian Kleven, Chief Financial Officer, Dignity Health-St. Rose Dominican: Dignity Health-St. Rose Dominican represents the only not-for-profit health system in southern Nevada. I am calling in opposition to A.B. 347. I will say, \"Ditto,\" to most of what my colleagues said, but will add a few points. Medicare rates do not cover our costs, and there is no guarantee in this bill that either the State or the commission would pay providers higher than Medicare rates, which concerns us significantly. Also, the bill does not provide a way to appeal commission decisions or address conflicts of interest on the rate commission, which is massively concerning. In addition to previous testimony, there are many unknowns related to this bill. It is extremely difficult for my team to determine the kind of impact it would have on the St. Rose system. One issue I can speak to. If commercial insurance rates were set at Medicare levels, that issue alone would equate to a $183 million bottom-line reduction to our market that serves the greater Las Vegas area. This could very possibly lead to elimination of needed service lines we provide to the community and possible job elimination for the very employees who saved lives during the COVID-19 pandemic. In 2020 alone, which was an extremely difficult year with the pandemic, St. Rose contributed over $154 million in community benefits. Because St. Rose is a not-for-profit system, any earnings we have are reinvested back into the community to bolster Nevada\\'s limited public health structure and pay for charity care. St. Rose has been doing the right thing in this community since 1947, and this bill would jeopardize our ability to adequately treat patients in our community. The rate-setting commission is wrong for Nevada. Thank you for your time and for serving as elected officials during these trying times. Joseph Heck, representing Nevada Osteopathic Medical Association: We are in opposition to the bill for all the reasons previously stated by the other opponents. The only thing I would like to add is the use of noneconomic medical malpractice damages as a potential benefit would have no additional benefit, as medical malpractice noneconomic damages are already capped at $350,000 in Nevada law as instituted by voter initiative in 2004. We appreciate Assemblyman Orentlicher\\'s long-range vision to try to increase access and lower costs, but we feel this bill is not the right way to go about it. Jesse Wadhams, representing Vegas Chamber: We agree with the opposition, and we thank Assemblyman Orentlicher for his vision. Jessica Ferrato, representing American College of Emergency Physicians, Nevada Chapter: I would like to thank Assemblyman Orentlicher for his consistent outreach and collaboration with stakeholders, and I would like to echo the comments of my colleagues. I would like to highlight a few items that are specific to emergency departments and physicians in the state. Emergency departments are the safety net of the health care system. We see patients no matter the severity or the ability to pay. Medicaid rates are a constant concern, especially as Assembly Committee on Health and Human Services April 2, 2021 the state continues to face fiscal challenges and recovers from the pandemic. Emergency room (ER) physicians are the most impacted by the low Medicaid rates throughout the state because we take all those patients. Even though ER physicians are positioned to benefit the most from a provider tax because we see more Medicaid patients than any others, we still have some concerns on how it will work in this bill. We are worried about unanticipated impacts to providers and patients; we have concerns that there are not any \"hold harmless\" provisions available for providers to ensure that money that is put into the fund comes back to the providers in the form of increased rates. In terms of the rate-setting commission, we have concerns. Setting rates at Medicare levels during the pandemic or otherwise is problematic. There are not any emergency doctors who can operate solely off Medicare rates; they do not cover costs. In addition, the wording in the bill around how this commission would raise rates appears subjective. Medicare rates are a significant barrier for recruiting in Nevada, which impacts patient care. This comes in the form of provider shortages, long wait times to see a provider, and even wait times and availability for procedures. We are concerned about the impact to the future health care system, and we look forward to continuing to work with Assemblyman Orentlicher on this policy moving forward. Gabriele McGregor, representing Nevada Resort Association: The Nevada Resort Association is in opposition to A.B. 347. In the interest of time, I will just say, \"Me too.\" Misty Grimmer, representing North Vista Hospital: We are before you in opposition to A.B. 347. We appreciate the open door and multiple meetings Assemblyman Orentlicher has had on this bill to get input from the industry and appreciate the shared goal of increasing Medicaid reimbursement rates in Nevada. However, we do not believe the provisions of this bill will achieve that goal, and they will ultimately end up increasing the cost of health care for the citizens of Nevada. The design of the rate-setting commission in this bill puts restrictions on only one portion of the health care market, putting the hospital community at a disadvantage. Others have already addressed the issue of costs, so I will just echo those comments. North Vista is not a large hospital, but we are the only hospital located in North Las Vegas. Unlike other hospital systems with multiple locations in Las Vegas, we have just the one campus. This means we do not have as much ability to make up in volume what is lost from one service to the next. The ability to negotiate with our fellow providers and the payers is important for a small player. Thank you for your time. We respectfully request that the Committee not process this bill. Chair Nguyen: We will take our last caller in opposition. I would encourage anyone waiting on the line to submit their written comments in opposition. Assembly Committee on Health and Human Services April 2, 2021 Chris Bosse, representing Renown Health: I appreciate the Assemblyman\\'s openness to share ideas and hear concerns about this bill. However, we are still opposed to A.B. 347. Rate-setting for health care providers and hospitals is not the right solution for Nevada. At this point, I think most of my points have been made, so \"Me too.\" Since this bill does not really provide a mechanism to achieve the originally stated goals of reducing costs at the consumer level, it does not ever get to impact the payers. The bill only puts access to care in Nevada at risk. Renown is a private, nonprofit, locally owned and operated, integrated delivery system located primarily in Washoe County. We strive to continue to meet the needs of the communities we serve. Rate-setting, in the short term, will impact our ability to expand capacity and services to meet the growing needs. In the midterm, it will likely impact our ability to care for patients. Chair Nguyen: With that, I will close testimony in opposition. I will open for testimony in neutral. Neutral testimony is not taking a position on the bill, either for or against; it is truly neutral testimony. [There was none.] I will close testimony in neutral. I will open for questions from members of the Committee. Assemblyman Hafen, do you have further questions? Assemblyman Hafen: No, Madam Chair. Chair Nguyen: Are there any follow-up questions? [There were none.] Are there any closing remarks? Assemblyman Orentlicher: Would Professor White or other copresenters like to make comments? Joseph White: I would like to say a couple of things. There is very strong evidence that there are substantial extra costs associated with billing in the American health care system and Nevada\\'s. It is not the case that sending out the same number of bills when the bills are all by the same rules is just as expensive as sending out that number of bills with extremely complicated different rules about what is involved. If that were the case, then the amount of billing expense in the United States and Canada or the United States and many other countries would not be so different. I think there are savings to be had. The savings related to administrative costs and the complexity of the billing are in the range of 5-10 percent of costs, according to most of the studies that have been done. There have been studies that show the average American physician practice is spending about $80,000 per doctor on billing. It is much lower in other countries. There is a savings; there are inefficiencies there. Given that we spend so much more money than other countries, we should be looking for a way to get those savings. The most obvious way to get those savings is with standardized prices and all-payer payment. I cannot speak to the question of the shortages of physicians in Nevada. It is for you to think about what the reasons are for that. Right now, it is true that costs per capita in Nevada are lower than in a lot of other states. Costs per capita for physician services, however, are not. Assembly Committee on Health and Human Services April 2, 2021 They are about the same as the average in other states. They are lower because of things like hospital payments and some services like home health. I do not know why that is. I think there is an important point made here about thinking about the different providers that are involved—on the Medicaid side, that can be skilled nursing facilities, home health, and so on—and thinking about the different providers that are involved with other aspects of health care. I think it is important to remember that a lot of employer-based health care is through ERISA plans. If costs are lower for employers, maybe they will not pass the savings along, but it is not a matter of their negotiations with insurers because they are simply experiencing the cost directly, and the insurers are simply processing for them. I think you need to think about how the ERISA plans work out in this process. There is a lot to think about. There are legitimate questions to ask about supply and what is going on with Nevada costs overall. Nevada has a low number of doctors per capita. It also has a relatively younger population than most states but not in line with the number of doctors. I think there are significant questions about what attracts doctors. It is possible that having a system which is much less of a hassle for doctors, in terms of billing and dealing with the cost structure in their practices, could logically mean it would be easier for doctors to be in smaller or solo practice instead of selling out to larger practices in part to handle all that. There are savings out there. It would seem like a good idea to capture them in some way. Assemblyman Orentlicher: Thank you, members of the Committee, and all the stakeholders who worked with me over the past few months. I would like to say a few things in response to some of the comments from those in opposition. There were some things said that are not accurate representations of the bill. Jaron Hildebrand was concerned about whether the provider tax would be equitable. His concern was that not all doctors see Medicaid patients, but all would pay the tax. It is true that the only way you receive money back, a 3-to-1 return—that is guaranteed, it is not speculative—for every dollar the providers put in, three dollars come back, but only if you take care of Medicaid patients. To me, that is a good thing in terms of equity because it says that the more you see Medicaid patients, the more you are willing to provide care to the neediest among us, the more you will get paid. I think that is good. It provides an incentive to see Medicaid patients. For those doctors who are in a specialty or a location where there is not an opportunity to see Medicaid patients, one way to meet their responsibility to share in the care of Medicaid patients is to pay toward their care if they cannot provide the care themselves. I think in terms of equity, this is designed very well. James Wadhams suggested the health care market is a competitive market. That is at odds with the understanding of every health economist I am aware of. The reason we need the rate-setting commission is the health care market does not operate like a competitive market. We have excessive and highly varying prices. Nobody in the health economics world thinks this is working properly. That is why we need government intervention to correct the market failure. For providers and patients, we are saying we want to ensure all providers are compensated fairly. We cover their costs and a reasonable profit. That means there will be providers available for patients. We are saying to providers that we will eliminate all this Assembly Committee on Health and Human Services April 2, 2021 administrative complexity that Professor White talked about. They do not need to have negotiations or spend hours a day filling out different forms for different providers and doing all these different negotiations. And we will provide stronger protection against the threat of professional liability. I have heard over the years from health care providers that those things are important. They want to be paid fairly; they do not like to deal with administrative paperwork and bureaucratic hassle; and they want to be protected against unfair malpractice litigation. All those things are in the bill. The only thing they do not get is the ability to charge excessive profits. We do not want them to gouge patients. That is the only thing they do not get out of this bill. Thank you very much for your consideration. I look forward to working with everybody to move this forward. Chair Nguyen: Thank you, Assemblyman Orentlicher and Committee. I understand all callers wishing to testify in opposition were heard. This was an extra-long hearing, but I think it is an important policy topic. We need to have these kinds of conversations. I appreciate your patience with me in having this policy conversation in a virtual setting. [Exhibit J was submitted but not discussed and is included as an exhibit for this hearing.] I will close the hearing on Assembly Bill 347. Is there any public comment? [There was none.] I will close public comment. We have a meeting on Monday [April 5, 2021]. I do not anticipate needing to have any night or additional meetings. Please try to do your best to respond to Committee members\\' emails about concerns you have about their bills. The meeting is adjourned [at 3:32 p.m.].'"
      ]
     },
     "execution_count": 5,
     "metadata": {},
     "output_type": "execute_result"
    }
   ],
   "source": [
    "data['4'][1]"
   ]
  },
  {
   "cell_type": "code",
   "execution_count": 6,
   "metadata": {},
   "outputs": [
    {
     "data": {
      "text/plain": [
       "dict_keys(['4', '5', '2', '3'])"
      ]
     },
     "execution_count": 6,
     "metadata": {},
     "output_type": "execute_result"
    }
   ],
   "source": [
    "data.keys()"
   ]
  },
  {
   "cell_type": "code",
   "execution_count": 7,
   "metadata": {},
   "outputs": [],
   "source": [
    "raw={}"
   ]
  },
  {
   "cell_type": "code",
   "execution_count": 8,
   "metadata": {},
   "outputs": [],
   "source": [
    "for i in data.keys():\n",
    "    raw[i] = json.dumps(data[i]) # convert json to string"
   ]
  },
  {
   "cell_type": "markdown",
   "metadata": {},
   "source": [
    "## Processing Raw Text"
   ]
  },
  {
   "cell_type": "markdown",
   "metadata": {},
   "source": [
    "### Tokenization\n",
    "\n",
    "Break up the string into words and punctuation, and create a list of words and punctuation."
   ]
  },
  {
   "cell_type": "code",
   "execution_count": 9,
   "metadata": {},
   "outputs": [],
   "source": [
    "from nltk import word_tokenize"
   ]
  },
  {
   "cell_type": "code",
   "execution_count": 10,
   "metadata": {},
   "outputs": [],
   "source": [
    "text={}\n",
    "for i in raw.keys():\n",
    "    text[i]= [word.lower() for word in word_tokenize(raw[i])]"
   ]
  },
  {
   "cell_type": "code",
   "execution_count": 11,
   "metadata": {},
   "outputs": [
    {
     "data": {
      "text/plain": [
       "list"
      ]
     },
     "execution_count": 11,
     "metadata": {},
     "output_type": "execute_result"
    }
   ],
   "source": [
    "type(text['2'])"
   ]
  },
  {
   "cell_type": "markdown",
   "metadata": {},
   "source": [
    "### Stopwords\n",
    "\n",
    "Stopwords are non-content words that primarily has only grammatical function"
   ]
  },
  {
   "cell_type": "code",
   "execution_count": 12,
   "metadata": {},
   "outputs": [],
   "source": [
    "from nltk.corpus import stopwords"
   ]
  },
  {
   "cell_type": "code",
   "execution_count": 13,
   "metadata": {},
   "outputs": [
    {
     "name": "stdout",
     "output_type": "stream",
     "text": [
      "{'d', 'off', 'doesn', 'as', 't', 'won', 'its', 'which', 'down', 'who', 'ma', 'did', \"don't\", 'now', 'yourselves', 'for', 'more', \"you're\", 'll', 'me', 'them', 'into', 'theirs', 's', 'most', 'under', 'shouldn', 'few', 'm', 'these', 'out', \"aren't\", 'here', 'you', 'do', 'other', \"won't\", \"it's\", 'our', 'what', 'y', 'before', 'to', 'can', 'only', 'while', 'needn', \"hadn't\", 'isn', 'further', 'ours', \"you've\", \"you'd\", 'aren', 'don', 'myself', 'then', 'both', 'ain', 'had', 'again', 'your', 'or', \"isn't\", 'wasn', 'same', \"you'll\", 'because', 'it', 'any', 'at', 'the', 'when', \"shan't\", 'where', 'shan', 'very', 'o', 'am', 're', 'his', 'are', \"weren't\", 'if', 'couldn', 'himself', \"she's\", 'by', 'why', 'through', 'until', 'being', \"shouldn't\", 'during', \"haven't\", 'him', 'has', 'haven', \"that'll\", \"hasn't\", 'was', 'he', 'we', 'nor', 'doing', 'hadn', 'having', 'that', 'and', \"wouldn't\", 'yours', 'she', 'such', 'their', 'from', 'there', 'this', 'will', 'on', \"mightn't\", 'does', 'been', 'over', 'be', 'my', 'a', 'each', 'how', \"mustn't\", 'should', 'an', 'not', \"couldn't\", 'wouldn', 'have', 'than', \"doesn't\", 'own', 'herself', 'some', 'but', 'between', 'after', 'mightn', 'hasn', 'weren', 'yourself', 'is', 'no', 'about', 'of', 'itself', \"needn't\", 'i', 'with', 'in', 've', 'below', 'so', \"wasn't\", 'her', 'were', 'whom', 'above', 'against', 'ourselves', 'they', 'too', \"didn't\", 'mustn', 'themselves', 'once', 'those', \"should've\", 'all', 'just', 'hers', 'didn', 'up'}\n"
     ]
    }
   ],
   "source": [
    "stopwords_en = set(stopwords.words('english')) # set checking is faster than list\n",
    "print(stopwords_en)"
   ]
  },
  {
   "cell_type": "markdown",
   "metadata": {},
   "source": [
    "Ofen, we want to remove stopwords when we want to capture only the gist of the documemt"
   ]
  },
  {
   "cell_type": "code",
   "execution_count": 14,
   "metadata": {},
   "outputs": [],
   "source": [
    "type(text['2'])\n",
    "text_no_stopwords={}"
   ]
  },
  {
   "cell_type": "code",
   "execution_count": 15,
   "metadata": {},
   "outputs": [],
   "source": [
    "for i in text.keys():\n",
    "    text_no_stopwords[i] = [word for word in text[i] if word not in stopwords_en]"
   ]
  },
  {
   "cell_type": "code",
   "execution_count": 16,
   "metadata": {},
   "outputs": [
    {
     "data": {
      "text/plain": [
       "dict"
      ]
     },
     "execution_count": 16,
     "metadata": {},
     "output_type": "execute_result"
    }
   ],
   "source": [
    "type(text_no_stopwords)"
   ]
  },
  {
   "cell_type": "markdown",
   "metadata": {},
   "source": [
    "Often, we want to remove the punctuations from the documents too."
   ]
  },
  {
   "cell_type": "code",
   "execution_count": 17,
   "metadata": {},
   "outputs": [
    {
     "name": "stdout",
     "output_type": "stream",
     "text": [
      "From string.punctuation: <class 'str'> !\"#$%&'()*+,-./:;<=>?@[\\]^_`{|}~\n"
     ]
    }
   ],
   "source": [
    "from string import punctuation\n",
    "print('From string.punctuation:', type(punctuation), punctuation)"
   ]
  },
  {
   "cell_type": "code",
   "execution_count": 18,
   "metadata": {},
   "outputs": [
    {
     "data": {
      "text/plain": [
       "dict_keys(['4', '5', '2', '3'])"
      ]
     },
     "execution_count": 18,
     "metadata": {},
     "output_type": "execute_result"
    }
   ],
   "source": [
    "text_no_stopwords.keys()"
   ]
  },
  {
   "cell_type": "code",
   "execution_count": 19,
   "metadata": {},
   "outputs": [],
   "source": [
    "text_no_stopwords_punc={}\n",
    "for i in text_no_stopwords.keys():\n",
    "    text_no_stopwords_punc[i] = [word for word in text_no_stopwords[i] if word not in punctuation]"
   ]
  },
  {
   "cell_type": "code",
   "execution_count": 20,
   "metadata": {},
   "outputs": [
    {
     "data": {
      "text/plain": [
       "list"
      ]
     },
     "execution_count": 20,
     "metadata": {},
     "output_type": "execute_result"
    }
   ],
   "source": [
    "type(text_no_stopwords_punc['2'])"
   ]
  },
  {
   "cell_type": "markdown",
   "metadata": {},
   "source": [
    "### Lemmatization\n",
    "Trying to find the root word with linguistics rules (with the use of regexes)"
   ]
  },
  {
   "cell_type": "code",
   "execution_count": null,
   "metadata": {},
   "outputs": [],
   "source": [
    "from nltk import pos_tag\n",
    "from nltk.stem import WordNetLemmatizer"
   ]
  },
  {
   "cell_type": "code",
   "execution_count": null,
   "metadata": {},
   "outputs": [],
   "source": [
    "wnl = WordNetLemmatizer()\n",
    "\n",
    "def penn2morphy(penntag):\n",
    "    \"\"\" Converts Penn Treebank tags to WordNet. \"\"\"\n",
    "    morphy_tag = {'NN':'n', 'JJ':'a',\n",
    "                  'VB':'v', 'RB':'r'}\n",
    "    try:\n",
    "        return morphy_tag[penntag[:2]]\n",
    "    except:\n",
    "        return 'n' \n",
    "    \n",
    "def lemmatize_sent(text): \n",
    "    return [wnl.lemmatize(word.lower(), pos=penn2morphy(tag)) \n",
    "            for word, tag in pos_tag(text)]"
   ]
  },
  {
   "cell_type": "code",
   "execution_count": null,
   "metadata": {},
   "outputs": [],
   "source": [
    "lemmatize_sent(text_no_stopwords_punc['2'])"
   ]
  },
  {
   "cell_type": "code",
   "execution_count": null,
   "metadata": {},
   "outputs": [],
   "source": [
    "nltk.pos_tag(text['2'])"
   ]
  },
  {
   "cell_type": "markdown",
   "metadata": {},
   "source": [
    "### Remove the line breaks"
   ]
  },
  {
   "cell_type": "code",
   "execution_count": null,
   "metadata": {},
   "outputs": [],
   "source": [
    "text_no_stopwords_punc.keys()"
   ]
  },
  {
   "cell_type": "code",
   "execution_count": null,
   "metadata": {},
   "outputs": [],
   "source": [
    "text_no_stopwords_punc_lb={}\n",
    "for i in text_no_stopwords_punc.keys():\n",
    "    text_no_stopwords_punc_lb[i] = [word for word in text_no_stopwords_punc[i] if not word.startswith('\\\\n')]+ [word[2:] \n",
    "                                for word in text_no_stopwords_punc if  word.startswith('\\\\n')]"
   ]
  },
  {
   "cell_type": "code",
   "execution_count": null,
   "metadata": {},
   "outputs": [],
   "source": [
    "type(text_no_stopwords_punc_lb)"
   ]
  },
  {
   "cell_type": "code",
   "execution_count": null,
   "metadata": {},
   "outputs": [],
   "source": [
    "nltk.pos_tag(text_no_stopwords_punc_lb['2'])"
   ]
  },
  {
   "cell_type": "code",
   "execution_count": null,
   "metadata": {},
   "outputs": [],
   "source": [
    "text_no_stopwords_punc_lb.keys()"
   ]
  },
  {
   "cell_type": "code",
   "execution_count": null,
   "metadata": {},
   "outputs": [],
   "source": [
    "text_no_stopwords_punc_lb_lemma={}\n",
    "for i in text_no_stopwords_punc_lb.keys():\n",
    "    text_no_stopwords_punc_lb_lemma[i]=lemmatize_sent(text_no_stopwords_punc_lb[i])"
   ]
  },
  {
   "cell_type": "code",
   "execution_count": null,
   "metadata": {},
   "outputs": [],
   "source": [
    "nltk.pos_tag(text_no_stopwords_punc_lb_lemma['2'])"
   ]
  },
  {
   "cell_type": "markdown",
   "metadata": {},
   "source": [
    "### Erase the md"
   ]
  },
  {
   "cell_type": "code",
   "execution_count": null,
   "metadata": {},
   "outputs": [],
   "source": [
    "text_no_stopwords_punc_lb_lemma.keys()"
   ]
  },
  {
   "cell_type": "code",
   "execution_count": null,
   "metadata": {},
   "outputs": [],
   "source": [
    "text_no_stopwords_punc_lb_lemma_md={}\n",
    "for i in text_no_stopwords_punc_lb_lemma.keys():\n",
    "    text_no_stopwords_punc_lb_lemma_md[i]=[word for word in text_no_stopwords_punc_lb_lemma[i] if nltk.pos_tag([word])[0][1] != 'MD' ]"
   ]
  },
  {
   "cell_type": "code",
   "execution_count": null,
   "metadata": {},
   "outputs": [],
   "source": [
    "type(text_no_stopwords_punc_lb_lemma_md)"
   ]
  },
  {
   "cell_type": "code",
   "execution_count": null,
   "metadata": {},
   "outputs": [],
   "source": [
    "len(text_no_stopwords_punc_lb_lemma_md['2'])"
   ]
  },
  {
   "cell_type": "markdown",
   "metadata": {},
   "source": [
    "## Word frequency of covid-19 by month comparison"
   ]
  },
  {
   "cell_type": "code",
   "execution_count": null,
   "metadata": {},
   "outputs": [],
   "source": [
    "text_no_stopwords_punc_lb_lemma_md.keys()"
   ]
  },
  {
   "cell_type": "code",
   "execution_count": null,
   "metadata": {},
   "outputs": [],
   "source": [
    "from nltk.probability import FreqDist\n",
    "textdist={}\n",
    "for i in text_no_stopwords_punc_lb_lemma_md.keys():\n",
    "    textdist[i] = FreqDist(text_no_stopwords_punc_lb_lemma_md[i])\n"
   ]
  },
  {
   "cell_type": "code",
   "execution_count": null,
   "metadata": {},
   "outputs": [],
   "source": [
    "textdist.keys()"
   ]
  },
  {
   "cell_type": "code",
   "execution_count": null,
   "metadata": {},
   "outputs": [],
   "source": [
    "textdistcov={}\n",
    "for i in textdist.keys():\n",
    "    textdistcov[i] = textdist[i].freq('covid-19')*100"
   ]
  },
  {
   "cell_type": "code",
   "execution_count": null,
   "metadata": {},
   "outputs": [],
   "source": [
    "textdistcov"
   ]
  },
  {
   "cell_type": "code",
   "execution_count": null,
   "metadata": {},
   "outputs": [],
   "source": [
    "b=list(textdistcov.keys())\n",
    "b.sort()\n",
    "b"
   ]
  },
  {
   "cell_type": "code",
   "execution_count": null,
   "metadata": {},
   "outputs": [],
   "source": [
    "textdistcov"
   ]
  },
  {
   "cell_type": "code",
   "execution_count": null,
   "metadata": {},
   "outputs": [],
   "source": [
    "import matplotlib.pyplot as plt\n",
    "covlist = textdistcov.items()\n",
    "covlist = sorted(covlist)\n",
    "x1,y1 = zip(*covlist)\n",
    "plt.plot(x1,y1)\n"
   ]
  },
  {
   "cell_type": "markdown",
   "metadata": {},
   "source": [
    "## Frequency distribution of covid-19 in noun group by month 2021"
   ]
  },
  {
   "cell_type": "code",
   "execution_count": null,
   "metadata": {},
   "outputs": [],
   "source": [
    "text_no_stopwords_punc_lb_lemma"
   ]
  },
  {
   "cell_type": "code",
   "execution_count": null,
   "metadata": {},
   "outputs": [],
   "source": [
    "text_no_stopwords_punc_lb_lemma_onn={}\n",
    "for i in text_no_stopwords_punc_lb_lemma.keys():\n",
    "    text_no_stopwords_punc_lb_lemma_onn[i]=[word for word in text_no_stopwords_punc_lb_lemma[i] if nltk.pos_tag([word])[0][1] == 'NN' ]"
   ]
  },
  {
   "cell_type": "code",
   "execution_count": null,
   "metadata": {},
   "outputs": [],
   "source": [
    "type(text_no_stopwords_punc_lb_lemma_onn)"
   ]
  },
  {
   "cell_type": "code",
   "execution_count": null,
   "metadata": {
    "scrolled": true
   },
   "outputs": [],
   "source": [
    "textdistn={}\n",
    "for i in text_no_stopwords_punc_lb_lemma_onn.keys():\n",
    "    textdistn[i] = FreqDist(text_no_stopwords_punc_lb_lemma_onn[i])\n"
   ]
  },
  {
   "cell_type": "code",
   "execution_count": null,
   "metadata": {},
   "outputs": [],
   "source": [
    "textdistncov={}\n",
    "for i in textdistn.keys():\n",
    "    textdistncov[i] = textdistn[i].freq('covid-19')*100"
   ]
  },
  {
   "cell_type": "code",
   "execution_count": null,
   "metadata": {},
   "outputs": [],
   "source": [
    "textdistncov"
   ]
  },
  {
   "cell_type": "code",
   "execution_count": null,
   "metadata": {},
   "outputs": [],
   "source": [
    "textdistn['4']['covid-19']"
   ]
  },
  {
   "cell_type": "code",
   "execution_count": null,
   "metadata": {},
   "outputs": [],
   "source": [
    "covnlist = textdistncov.items()\n",
    "covnlist = sorted(covnlist)\n",
    "x2,y2 = zip(*covnlist)\n",
    "plt.plot(x2,y2)"
   ]
  },
  {
   "cell_type": "markdown",
   "metadata": {},
   "source": [
    "# Sentiment analysis (by month)"
   ]
  },
  {
   "cell_type": "code",
   "execution_count": null,
   "metadata": {},
   "outputs": [],
   "source": [
    "with open('nv_hhs_m_2021.json', 'r') as file:\n",
    "    data= json.load(file)"
   ]
  },
  {
   "cell_type": "code",
   "execution_count": null,
   "metadata": {},
   "outputs": [],
   "source": [
    "data.keys()"
   ]
  },
  {
   "cell_type": "code",
   "execution_count": null,
   "metadata": {},
   "outputs": [],
   "source": [
    "sentidata={}\n",
    "\n",
    "for i in data.keys():\n",
    "    sentidata[i]=' '.join(data[i])\n",
    "    \n",
    "  "
   ]
  },
  {
   "cell_type": "markdown",
   "metadata": {},
   "source": [
    "## Construct the 2021 hhs's sentence list by month"
   ]
  },
  {
   "cell_type": "code",
   "execution_count": null,
   "metadata": {},
   "outputs": [],
   "source": [
    "listsen={}"
   ]
  },
  {
   "cell_type": "code",
   "execution_count": null,
   "metadata": {},
   "outputs": [],
   "source": [
    "for i in sentidata.keys():\n",
    "    listsen[i]=nltk.tokenize.sent_tokenize(sentidata[i])"
   ]
  },
  {
   "cell_type": "markdown",
   "metadata": {},
   "source": [
    "### Filter the sentences which have covid-19"
   ]
  },
  {
   "cell_type": "code",
   "execution_count": null,
   "metadata": {},
   "outputs": [],
   "source": [
    "listsen_cov={}\n",
    "for i in listsen.keys():\n",
    "    listsen_cov[i]=[sen for sen in listsen[i] if ' COVID-19' in sen]"
   ]
  },
  {
   "cell_type": "code",
   "execution_count": null,
   "metadata": {},
   "outputs": [],
   "source": [
    "from textblob import TextBlob\n",
    "blob={}\n",
    "for i in listsen_cov.keys():\n",
    "    blob[i] = TextBlob(' '.join(listsen_cov[i]))\n"
   ]
  },
  {
   "cell_type": "code",
   "execution_count": null,
   "metadata": {},
   "outputs": [],
   "source": [
    "blob.keys()"
   ]
  },
  {
   "cell_type": "code",
   "execution_count": null,
   "metadata": {},
   "outputs": [],
   "source": [
    "blob"
   ]
  },
  {
   "cell_type": "code",
   "execution_count": null,
   "metadata": {},
   "outputs": [],
   "source": [
    "listsen_cov_pol={}\n",
    "listsen_cov_sen={}\n",
    "for i in blob.keys():\n",
    "    polarity=1\n",
    "    for j in range(len(blob[i].sentences)):\n",
    "        if blob[i].sentences[j].sentiment.polarity<polarity:\n",
    "            polarity=blob[i].sentences[j].sentiment.polarity\n",
    "            sentence=blob[i].sentences[j]\n",
    "    listsen_cov_pol[i]=polarity\n",
    "    listsen_cov_sen[i]=sentence"
   ]
  },
  {
   "cell_type": "code",
   "execution_count": null,
   "metadata": {},
   "outputs": [],
   "source": [
    "blob['2'].sentences[0].sentiment"
   ]
  },
  {
   "cell_type": "code",
   "execution_count": null,
   "metadata": {},
   "outputs": [],
   "source": [
    "listsen_cov_pol"
   ]
  },
  {
   "cell_type": "code",
   "execution_count": null,
   "metadata": {},
   "outputs": [],
   "source": [
    "listsen_cov_sen"
   ]
  },
  {
   "cell_type": "markdown",
   "metadata": {},
   "source": [
    "## Plot the lowest polarity of covid sentenses by month"
   ]
  },
  {
   "cell_type": "code",
   "execution_count": null,
   "metadata": {},
   "outputs": [],
   "source": [
    "covlistsen = listsen_cov_pol.items()\n",
    "covlistsen = sorted(covlistsen)\n",
    "x3,y3 = zip(*covlistsen)\n",
    "plt.plot(x3,y3)"
   ]
  },
  {
   "cell_type": "markdown",
   "metadata": {},
   "source": [
    "## Plot the highest polarity of covid sentenses by month"
   ]
  },
  {
   "cell_type": "code",
   "execution_count": null,
   "metadata": {},
   "outputs": [],
   "source": [
    "listsen_cov_polp={}\n",
    "listsen_cov_senp={}\n",
    "for i in blob.keys():\n",
    "    polarity=-1\n",
    "    for j in range(len(blob[i].sentences)):\n",
    "        if blob[i].sentences[j].sentiment.polarity>polarity:\n",
    "            polarity=blob[i].sentences[j].sentiment.polarity\n",
    "            sentence=blob[i].sentences[j]\n",
    "    listsen_cov_polp[i]=polarity\n",
    "    listsen_cov_senp[i]=sentence"
   ]
  },
  {
   "cell_type": "code",
   "execution_count": null,
   "metadata": {},
   "outputs": [],
   "source": [
    "covlistsenp = listsen_cov_polp.items()\n",
    "covlistsenp = sorted(covlistsenp)\n",
    "x4,y4 = zip(*covlistsenp)\n",
    "plt.plot(x4,y4)"
   ]
  },
  {
   "cell_type": "code",
   "execution_count": null,
   "metadata": {},
   "outputs": [],
   "source": [
    "listsen_cov_polp"
   ]
  },
  {
   "cell_type": "markdown",
   "metadata": {},
   "source": [
    "### Plot the polarity of covid sentenss by month"
   ]
  },
  {
   "cell_type": "code",
   "execution_count": null,
   "metadata": {},
   "outputs": [],
   "source": [
    "covsen={}\n",
    "for i in blob.keys():\n",
    "    covsen[i]=blob[i].sentiment.polarity"
   ]
  },
  {
   "cell_type": "code",
   "execution_count": null,
   "metadata": {},
   "outputs": [],
   "source": [
    "covsen"
   ]
  },
  {
   "cell_type": "code",
   "execution_count": null,
   "metadata": {},
   "outputs": [],
   "source": [
    "covsensen = covsen.items()\n",
    "covsensen = sorted(covsensen)\n",
    "x5,y5 = zip(*covsensen)\n",
    "plt.plot(x5,y5)"
   ]
  },
  {
   "cell_type": "code",
   "execution_count": null,
   "metadata": {},
   "outputs": [],
   "source": []
  },
  {
   "cell_type": "code",
   "execution_count": null,
   "metadata": {},
   "outputs": [],
   "source": []
  }
 ],
 "metadata": {
  "kernelspec": {
   "display_name": "Python 3 (Spyder)",
   "language": "python3",
   "name": "python3"
  },
  "language_info": {
   "codemirror_mode": {
    "name": "ipython",
    "version": 3
   },
   "file_extension": ".py",
   "mimetype": "text/x-python",
   "name": "python",
   "nbconvert_exporter": "python",
   "pygments_lexer": "ipython3",
   "version": "3.9.5"
  }
 },
 "nbformat": 4,
 "nbformat_minor": 4
}
