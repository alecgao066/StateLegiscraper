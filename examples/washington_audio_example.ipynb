{
 "cells": [
  {
   "cell_type": "markdown",
   "id": "d4b4e43c",
   "metadata": {},
   "source": [
    "# StateLegiscraper: Audio Format Example Notebook"
   ]
  },
  {
   "cell_type": "markdown",
   "id": "629353d1",
   "metadata": {},
   "source": [
    "*Author*: Katherine Chang (kachang@uw.edu)\n",
    "\n",
    "*Last Updated*: (In Progress)"
   ]
  },
  {
   "cell_type": "markdown",
   "id": "ae4cedc4",
   "metadata": {},
   "source": [
    "This notebook walks a new user through the StateLegiscraper workflow, with a focus on the Washington State Legislature and working with audio file formats. "
   ]
  },
  {
   "cell_type": "code",
   "execution_count": null,
   "id": "428a5af3",
   "metadata": {},
   "outputs": [],
   "source": []
  }
 ],
 "metadata": {
  "kernelspec": {
   "display_name": "Python 3 (ipykernel)",
   "language": "python",
   "name": "python3"
  },
  "language_info": {
   "codemirror_mode": {
    "name": "ipython",
    "version": 3
   },
   "file_extension": ".py",
   "mimetype": "text/x-python",
   "name": "python",
   "nbconvert_exporter": "python",
   "pygments_lexer": "ipython3",
   "version": "3.9.5"
  }
 },
 "nbformat": 4,
 "nbformat_minor": 5
}
