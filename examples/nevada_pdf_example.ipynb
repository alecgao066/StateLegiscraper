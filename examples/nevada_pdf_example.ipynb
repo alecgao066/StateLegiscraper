{
 "cells": [
  {
   "cell_type": "markdown",
   "id": "15ca65d2",
   "metadata": {},
   "source": [
    "# StateLegiscraper: PDF Format Example Notebook"
   ]
  },
  {
   "cell_type": "markdown",
   "id": "f0dd811b",
   "metadata": {},
   "source": [
    "*Author*: Katherine Chang (kachang@uw.edu)\n",
    "\n",
    "*Last Updated*: 12/14/2021"
   ]
  },
  {
   "cell_type": "markdown",
   "id": "2bc1af62",
   "metadata": {},
   "source": [
    "StateLegiscraper is a Python package that scrapes and processes data from U.S. state legislature websites. As of writing, the package is focused on transcribing standing committee hearings from each state legislature from its native archival format to text, so that this text data can be easily used for NLP research purposes and for public review. For more details about the StateLegiscraper, please visit its [Github repository](https://github.com/ka-chang/StateLegiscraper) where it is under active development. "
   ]
  },
  {
   "cell_type": "markdown",
   "id": "4ce18e2a",
   "metadata": {},
   "source": [
    "This notebook walks a new user through the StateLegiscraper workflow, with a focus on the Nevada State Legislature and working with PDF file formats. \n",
    "\n",
    "This notebook makes several assumptions about the user, which are that they have:\n",
    "\n",
    "- At least a novice level familiarity with Python, including importing packages, running basic functions, and saving files.\n",
    "- Knowledge of different Python file types, particularily lists and dictionaries. \n",
    "- Comfort working in the command line, as StateLegiscraper is installed through the user's choice of terminal. \n",
    "- Have at least 100 mb of space on their local hard drive or a mounted cloud drive to save the raw data on."
   ]
  },
  {
   "cell_type": "markdown",
   "id": "07d4c097",
   "metadata": {},
   "source": [
    "## The Nevada Context"
   ]
  },
  {
   "cell_type": "markdown",
   "id": "4830dd68",
   "metadata": {},
   "source": [
    "The Nevada State Legislature is a part-time biennial state legislature, which means state legislators meet on odd number of years between the months of February to June. The state legislature website, [www.leg.state.nv.us](www.leg.state.nv.us), hosts human transcribed transcripts of its standing committee meetings in PDF format. "
   ]
  },
  {
   "cell_type": "markdown",
   "id": "9b7387a1",
   "metadata": {},
   "source": [
    "## Setup"
   ]
  },
  {
   "cell_type": "markdown",
   "id": "40afd7b9",
   "metadata": {},
   "source": [
    "Please ensure StateLegiscraper is installed on your local drive. Please refer to the [following instructions for details](https://github.com/ka-chang/StateLegiscraper/blob/main/README.md)."
   ]
  },
  {
   "cell_type": "markdown",
   "id": "2840dc10",
   "metadata": {},
   "source": [
    "The following two code chunks changes the directory to your local StateLegiscraper directory, which allows us to import the modules in to use."
   ]
  },
  {
   "cell_type": "code",
   "execution_count": 1,
   "id": "c2da06d4",
   "metadata": {},
   "outputs": [],
   "source": [
    "import os\n",
    "from pathlib import Path\n",
    "import sys"
   ]
  },
  {
   "cell_type": "code",
   "execution_count": 2,
   "id": "eb5877e0",
   "metadata": {},
   "outputs": [],
   "source": [
    "github_file_path = str(Path(os.getcwd()).parents[0]) #Sets to local Github directory path\n",
    "\n",
    "sys.path.insert(1, github_file_path) "
   ]
  },
  {
   "cell_type": "markdown",
   "id": "0cfc7814",
   "metadata": {},
   "source": [
    "Code chunk 3 below prints your unique local github_file_path. It should end with the Github root directory, /StateLegiscraper/"
   ]
  },
  {
   "cell_type": "code",
   "execution_count": 3,
   "id": "c671f890",
   "metadata": {},
   "outputs": [
    {
     "name": "stdout",
     "output_type": "stream",
     "text": [
      "/Volumes/GoogleDrive/My Drive/State Legislatures/StateLegiscraper\n"
     ]
    }
   ],
   "source": [
    "print(github_file_path)"
   ]
  },
  {
   "cell_type": "markdown",
   "id": "8e358ef4",
   "metadata": {},
   "source": [
    "## Nevada Assets"
   ]
  },
  {
   "cell_type": "markdown",
   "id": "5c7f9e80",
   "metadata": {},
   "source": [
    "Before we start scraping data, we should decide what data we're interested in. As of writing, StateLegiscraper's coverage of Nevada supports scraping PDF transcripts from Nevada's standing committee hearings from 2011-2021. To access the weblinks to scrape the PDF links, we can call on `statelegiscraper.assets.weblinks` module and import `nv_weblinks`."
   ]
  },
  {
   "cell_type": "code",
   "execution_count": 4,
   "id": "a20b8add",
   "metadata": {},
   "outputs": [],
   "source": [
    "from statelegiscraper.assets.weblinks import nv_weblinks"
   ]
  },
  {
   "cell_type": "markdown",
   "id": "74e7b5dc",
   "metadata": {},
   "source": [
    "I'm going to go ahead and print the nv_weblinks source so that you can review the file."
   ]
  },
  {
   "cell_type": "code",
   "execution_count": 5,
   "id": "d0f9abdd",
   "metadata": {},
   "outputs": [],
   "source": [
    "import inspect\n",
    "links = inspect.getsource(nv_weblinks)"
   ]
  },
  {
   "cell_type": "code",
   "execution_count": 6,
   "id": "fe70536a",
   "metadata": {},
   "outputs": [
    {
     "name": "stdout",
     "output_type": "stream",
     "text": [
      "\"\"\"Weblinks for Nevada committee meeting pages, organized by chamber and committee name \n",
      "for regular sessions from 2011-2021\"\"\"\n",
      "\n",
      "#ASSEMBLY\n",
      "\n",
      "assem_comlabor=[\n",
      "    \"https://www.leg.state.nv.us/App/NELIS/REL/81st2021/Committee/340/Meetings\",\n",
      "    \"https://www.leg.state.nv.us/App/NELIS/REL/80th2019/Committee/219/Meetings\",\n",
      "    \"https://www.leg.state.nv.us/App/NELIS/REL/79th2017/Committee/184/Meetings\",\n",
      "    \"https://www.leg.state.nv.us/App/NELIS/REL/78th2015/Committee/47/Meetings\",\n",
      "    \"https://www.leg.state.nv.us/App/NELIS/REL/77th2013/Committee/1/Meetings\",\n",
      "    \"https://www.leg.state.nv.us/App/NELIS/REL/76th2011/Committee/24/Meetings\"\n",
      "]\n",
      "\n",
      "assem_ed=[\n",
      "    \"https://www.leg.state.nv.us/App/NELIS/REL/81st2021/Committee/348/Meetings\",\n",
      "    \"https://www.leg.state.nv.us/App/NELIS/REL/80th2019/Committee/228/Meetings\",\n",
      "    \"https://www.leg.state.nv.us/App/NELIS/REL/79th2017/Committee/168/Meetings\",\n",
      "    \"https://www.leg.state.nv.us/App/NELIS/REL/78th2015/Committee/50/Meetings\",\n",
      "    \"https://www.leg.state.nv.us/App/NELIS/REL/77th2013/Committee/2/Meetings\",\n",
      "    \"https://www.leg.state.nv.us/App/NELIS/REL/76th2011/Committee/25/Meetings\"\n",
      "]\n",
      "\n",
      "assem_hhs=[\n",
      "    \"https://www.leg.state.nv.us/App/NELIS/REL/81st2021/Committee/346/Meetings\",\n",
      "    \"https://www.leg.state.nv.us/App/NELIS/REL/80th2019/Committee/232/Meetings\",\n",
      "    \"https://www.leg.state.nv.us/App/NELIS/REL/79th2017/Committee/170/Meetings\",\n",
      "    \"https://www.leg.state.nv.us/App/NELIS/REL/78th2015/Committee/52/Meetings\",\n",
      "    \"https://www.leg.state.nv.us/App/NELIS/REL/77th2013/Committee/5/Meetings\",\n",
      "   \"https://www.leg.state.nv.us/App/NELIS/REL/76th2011/Committee/28/Meetings\"\n",
      "    ]\n",
      "\n",
      "assem_nram=[\n",
      "    \"https://www.leg.state.nv.us/App/NELIS/REL/81st2021/Committee/343/Meetings\",\n",
      "    \"https://www.leg.state.nv.us/App/NELIS/REL/80th2019/Committee/235/Meetings\",\n",
      "    \"https://www.leg.state.nv.us/App/NELIS/REL/79th2017/Committee/174/Meetings\",\n",
      "    \"https://www.leg.state.nv.us/App/NELIS/REL/78th2015/Committee/56/Meetings\",\n",
      "    \"https://www.leg.state.nv.us/App/NELIS/REL/77th2013/Committee/7/Meetings\",\n",
      "    \"https://www.leg.state.nv.us/App/NELIS/REL/76th2011/Committee/30/Meetings\"\n",
      "]\n",
      "\n",
      "assem_ga=[\n",
      "\t\"https://www.leg.state.nv.us/App/NELIS/REL/81st2021/Committee/344/Meetings\",\n",
      "\t\"https://www.leg.state.nv.us/App/NELIS/REL/80th2019/Committee/230/Meetings\",\n",
      "\t\"https://www.leg.state.nv.us/App/NELIS/REL/79th2017/Committee/179/Meetings\",\n",
      "\t\"https://www.leg.state.nv.us/App/NELIS/REL/78th2015/Committee/62/Meetings\",\n",
      "\t\"https://www.leg.state.nv.us/App/NELIS/REL/77th2013/Committee/4/Meetings\",\n",
      "\t\"https://www.leg.state.nv.us/App/NELIS/REL/76th2011/Committee/27/Meetings\"\n",
      "]\n",
      "\n",
      "assem_gri=[\n",
      "\t\"https://www.leg.state.nv.us/App/NELIS/REL/81st2021/Committee/345/Meetings\",\n",
      "\t\"https://www.leg.state.nv.us/App/NELIS/REL/80th2019/Committee/239/Meetings\",\n",
      "\t\"https://www.leg.state.nv.us/App/NELIS/REL/79th2017/Committee/169/Meetings\", # \"Transportation\"\n",
      "\t\"https://www.leg.state.nv.us/App/NELIS/REL/78th2015/Committee/51/Meetings\", # \"Transportation\"\n",
      "\t\"https://www.leg.state.nv.us/App/NELIS/REL/77th2013/Committee/8/Meetings\", # \"Transportation\"\n",
      "\t\"https://www.leg.state.nv.us/App/NELIS/REL/76th2011/Committee/31/Meetings\" # \"Transportation\"\n",
      "] \n",
      "\n",
      "assem_jud=[\n",
      "\t\"https://www.leg.state.nv.us/App/NELIS/REL/81st2021/Committee/335/Meetings\",\n",
      "\t\"https://www.leg.state.nv.us/App/NELIS/REL/80th2019/Committee/233/Meetings\",\n",
      "\t\"https://www.leg.state.nv.us/App/NELIS/REL/79th2017/Committee/188/Meetings\",\n",
      "\t\"https://www.leg.state.nv.us/App/NELIS/REL/78th2015/Committee/69/Meetings\",\n",
      "\t\"https://www.leg.state.nv.us/App/NELIS/REL/77th2013/Committee/6/Meetings\",\n",
      "\t\"https://www.leg.state.nv.us/App/NELIS/REL/76th2011/Committee/29/Meetings\"\n",
      "]\n",
      "\n",
      "assem_rev=[\n",
      "\t\"https://www.leg.state.nv.us/App/NELIS/REL/81st2021/Committee/347/Meetings\",\n",
      "\t\"https://www.leg.state.nv.us/App/NELIS/REL/80th2019/Committee/236/Meetings\", # \"Taxation\"\n",
      "\t\"https://www.leg.state.nv.us/App/NELIS/REL/79th2017/Committee/177/Meetings\", # \"Taxation\"\n",
      "\t\"https://www.leg.state.nv.us/App/NELIS/REL/78th2015/Committee/60/Meetings\", # \"Taxation\"\n",
      "\t\"https://www.leg.state.nv.us/App/NELIS/REL/77th2013/Committee/19/Meetings\", # \"Taxation\"\n",
      "\t\"https://www.leg.state.nv.us/App/NELIS/REL/76th2011/Committee/42/Meetings\"\n",
      "]\n",
      "\n",
      "assem_wm=[\n",
      "\t\"https://www.leg.state.nv.us/App/NELIS/REL/81st2021/Committee/337/Meetings\",\n",
      "\t\"https://www.leg.state.nv.us/App/NELIS/REL/80th2019/Committee/238/Meetings\",\n",
      "\t\"https://www.leg.state.nv.us/App/NELIS/REL/79th2017/Committee/178/Meetings\",\n",
      "\t\"https://www.leg.state.nv.us/App/NELIS/REL/78th2015/Committee/61/Meetings\",\n",
      "\t\"https://www.leg.state.nv.us/App/NELIS/REL/77th2013/Committee/9/Meetings\",\n",
      "\t\"https://www.leg.state.nv.us/App/NELIS/REL/76th2011/Committee/32/Meetings\"\n",
      "]\n",
      "\n",
      "#SENATE\n",
      "\n",
      "sen_comlabor=[\n",
      "    \"https://www.leg.state.nv.us/App/NELIS/REL/81st2021/Committee/339/Meetings\",\n",
      "    \"https://www.leg.state.nv.us/App/NELIS/REL/80th2019/Committee/215/Meetings\",\n",
      "    \"https://www.leg.state.nv.us/App/NELIS/REL/79th2017/Committee/187/Meetings\",\n",
      "    \"https://www.leg.state.nv.us/App/NELIS/REL/78th2015/Committee/68/Meetings\",\n",
      "    \"https://www.leg.state.nv.us/App/NELIS/REL/77th2013/Committee/10/Meetings\",\n",
      "    \"https://www.leg.state.nv.us/App/NELIS/REL/76th2011/Committee/33/Meetings\"\n",
      "]\n",
      "\n",
      "sen_ed=[\n",
      "    \"https://www.leg.state.nv.us/App/NELIS/REL/81st2021/Committee/342/Meetings\",\n",
      "    \"https://www.leg.state.nv.us/App/NELIS/REL/80th2019/Committee/216/Meetings\",\n",
      "    \"https://www.leg.state.nv.us/App/NELIS/REL/79th2017/Committee/185/Meetings\",\n",
      "    \"https://www.leg.state.nv.us/App/NELIS/REL/78th2015/Committee/66/Meetings\",\n",
      "    \"https://www.leg.state.nv.us/App/NELIS/REL/77th2013/Committee/13/Meetings\",\n",
      "    \"https://www.leg.state.nv.us/App/NELIS/REL/76th2011/Committee/36/Meetings\"\n",
      "]\n",
      "\n",
      "sen_hhs=[\n",
      "    \"https://www.leg.state.nv.us/App/NELIS/REL/81st2021/Committee/350/Meetings\",\n",
      "    \"https://www.leg.state.nv.us/App/NELIS/REL/80th2019/Committee/221/Meetings\",\n",
      "    \"https://www.leg.state.nv.us/App/NELIS/REL/79th2017/Committee/170/Meetings\",\n",
      "    \"https://www.leg.state.nv.us/App/NELIS/REL/78th2015/Committee/63/Meetings\",\n",
      "    \"https://www.leg.state.nv.us/App/NELIS/REL/77th2013/Committee/22/Meetings\",\n",
      "    \"https://www.leg.state.nv.us/App/NELIS/REL/76th2011/Committee/45/Meetings\"\n",
      "    ]\n",
      "\n",
      "sen_nram=[\n",
      "    \"https://www.leg.state.nv.us/App/NELIS/REL/81st2021/Committee/349/Meetings\",\n",
      "    \"https://www.leg.state.nv.us/App/NELIS/REL/80th2019/Committee/225/Meetings\",\n",
      "    \"https://www.leg.state.nv.us/App/NELIS/REL/79th2017/Committee/186/Meetings\",\n",
      "    \"https://www.leg.state.nv.us/App/NELIS/REL/78th2015/Committee/67/Meetings\",\n",
      "    \"https://www.leg.state.nv.us/App/NELIS/REL/77th2013/Committee/16/Meetings\",\n",
      "    \"https://www.leg.state.nv.us/App/NELIS/REL/76th2011/Committee/39/Meetings\"\n",
      "]\n",
      "\n",
      "sen_ga=[\n",
      "\t\"https://www.leg.state.nv.us/App/NELIS/REL/81st2021/Committee/334/Meetings\",\n",
      "\t\"https://www.leg.state.nv.us/App/NELIS/REL/80th2019/Committee/220/Meetings\",\n",
      "\t\"https://www.leg.state.nv.us/App/NELIS/REL/79th2017/Committee/183/Meetings\",\n",
      "\t\"https://www.leg.state.nv.us/App/NELIS/REL/78th2015/Committee/65/Overview\",\n",
      "\t\"https://www.leg.state.nv.us/App/NELIS/REL/77th2013/Committee/12/Meetings\",\n",
      "\t\"https://www.leg.state.nv.us/App/NELIS/REL/76th2011/Committee/35/Meetings\"\n",
      "]\n",
      "\n",
      "sen_gri=[\n",
      "\t\"https://www.leg.state.nv.us/App/NELIS/REL/81st2021/Committee/338/Meetings\",\n",
      "\t\"https://www.leg.state.nv.us/App/NELIS/REL/80th2019/Committee/231/Meetings\",\n",
      "\t\"https://www.leg.state.nv.us/App/NELIS/REL/79th2017/Committee/182/Meetings\", # \"Transportation\"\n",
      "\t\"https://www.leg.state.nv.us/App/NELIS/REL/78th2015/Committee/64/Meetings\", # \"Transportation\"\n",
      "\t\"https://www.leg.state.nv.us/App/NELIS/REL/77th2013/Committee/18/Meetings\", # \"Transportation\"\n",
      "\t\"https://www.leg.state.nv.us/App/NELIS/REL/76th2011/Committee/41/Meetings\" # \"Transportation\"\n",
      "] \n",
      "\n",
      "sen_jud=[\n",
      "\t\"https://www.leg.state.nv.us/App/NELIS/REL/81st2021/Committee/329/Meetings\",\n",
      "\t\"https://www.leg.state.nv.us/App/NELIS/REL/80th2019/Committee/222/Overview\",\n",
      "\t\"https://www.leg.state.nv.us/App/NELIS/REL/79th2017/Committee/173/Meetings\",\n",
      "\t\"https://www.leg.state.nv.us/App/NELIS/REL/78th2015/Committee/55/Meetings\",\n",
      "\t\"https://www.leg.state.nv.us/App/NELIS/REL/77th2013/Committee/14/Meetings\",\n",
      "\t\"https://www.leg.state.nv.us/App/NELIS/REL/76th2011/Committee/37/Meetings\"\n",
      "]\n",
      "\n",
      "\n",
      "sen_red=[\n",
      "\t\"https://www.leg.state.nv.us/App/NELIS/REL/81st2021/Committee/331/Meetings\",\n",
      "\t\"https://www.leg.state.nv.us/App/NELIS/REL/80th2019/Committee/226/Meetings\",\n",
      "\t\"https://www.leg.state.nv.us/App/NELIS/REL/79th2017/Committee/171/Meetings\",\n",
      "\t\"https://www.leg.state.nv.us/App/NELIS/REL/78th2015/Committee/53/Meetings\",\n",
      "\t\"https://www.leg.state.nv.us/App/NELIS/REL/77th2013/Committee/17/Overview\",\n",
      "\t\"https://www.leg.state.nv.us/App/NELIS/REL/76th2011/Committee/40/Meetings\"\n",
      "]\n",
      "\n",
      "sen_fin=[\n",
      "\t\"https://www.leg.state.nv.us/App/NELIS/REL/81st2021/Committee/332/Meetings\",\n",
      "\t\"https://www.leg.state.nv.us/App/NELIS/REL/80th2019/Committee/218/Meetings\",\n",
      "\t\"https://www.leg.state.nv.us/App/NELIS/REL/79th2017/Committee/166/Meetings\",\n",
      "\t\"https://www.leg.state.nv.us/App/NELIS/REL/78th2015/Committee/48/Meetings\",\n",
      "\t\"https://www.leg.state.nv.us/App/NELIS/REL/77th2013/Committee/11/Meetings\",\n",
      "\t\"https://www.leg.state.nv.us/App/NELIS/REL/76th2011/Committee/34/Meetings\"\n",
      "]\n",
      "\n"
     ]
    }
   ],
   "source": [
    "print(links)"
   ]
  },
  {
   "cell_type": "markdown",
   "id": "398ceb27",
   "metadata": {},
   "source": [
    "So you can see `nv_weblinks` includes lists for all Assembly and House Standing Committee meetings from 2011-2021. Simply choose the standing committee you're interested in and call it into your environment by adding `nv_weblinks` before the list name.  "
   ]
  },
  {
   "cell_type": "code",
   "execution_count": 7,
   "id": "75853544",
   "metadata": {},
   "outputs": [],
   "source": [
    "sen_hhs = nv_weblinks.sen_hhs"
   ]
  },
  {
   "cell_type": "code",
   "execution_count": 8,
   "id": "30c5f33e",
   "metadata": {},
   "outputs": [
    {
     "name": "stdout",
     "output_type": "stream",
     "text": [
      "['https://www.leg.state.nv.us/App/NELIS/REL/81st2021/Committee/350/Meetings', 'https://www.leg.state.nv.us/App/NELIS/REL/80th2019/Committee/221/Meetings', 'https://www.leg.state.nv.us/App/NELIS/REL/79th2017/Committee/170/Meetings', 'https://www.leg.state.nv.us/App/NELIS/REL/78th2015/Committee/63/Meetings', 'https://www.leg.state.nv.us/App/NELIS/REL/77th2013/Committee/22/Meetings', 'https://www.leg.state.nv.us/App/NELIS/REL/76th2011/Committee/45/Meetings']\n"
     ]
    }
   ],
   "source": [
    "print(sen_hhs)"
   ]
  },
  {
   "cell_type": "markdown",
   "id": "839795a0",
   "metadata": {},
   "source": [
    "If you'd only like data from specific years, e.g., 2021 and 2019, then simply use the list index to specify."
   ]
  },
  {
   "cell_type": "code",
   "execution_count": 9,
   "id": "161ce969",
   "metadata": {},
   "outputs": [],
   "source": [
    "sen_hhs_2021_2019 = sen_hhs[0:2]"
   ]
  },
  {
   "cell_type": "code",
   "execution_count": 10,
   "id": "46ed0ccb",
   "metadata": {},
   "outputs": [
    {
     "name": "stdout",
     "output_type": "stream",
     "text": [
      "['https://www.leg.state.nv.us/App/NELIS/REL/81st2021/Committee/350/Meetings', 'https://www.leg.state.nv.us/App/NELIS/REL/80th2019/Committee/221/Meetings']\n"
     ]
    }
   ],
   "source": [
    "print(sen_hhs_2021_2019)"
   ]
  },
  {
   "cell_type": "markdown",
   "id": "82cb3ab1",
   "metadata": {},
   "source": [
    "## Nevada Scrape Class"
   ]
  },
  {
   "cell_type": "markdown",
   "id": "f1703df7",
   "metadata": {},
   "source": [
    "Now that you've selected your targeted data through the weblinks asset, let's begin scraping data! StateLegiscraper is structured with two main classes of functions: Scrape and Process. We'll start with the Scrape class, which we import using the following code."
   ]
  },
  {
   "cell_type": "code",
   "execution_count": 11,
   "id": "9d822077",
   "metadata": {},
   "outputs": [],
   "source": [
    "from statelegiscraper.states.nv import Scrape"
   ]
  },
  {
   "cell_type": "markdown",
   "id": "fec0b1bc",
   "metadata": {},
   "source": [
    "There's one function in Nevada's Scrape class, `nv_scrape_pdf()`. All of StateLegiscraper's state module functions include detailed docstrings, so use the `help(classname)` function to easily access the documentation."
   ]
  },
  {
   "cell_type": "code",
   "execution_count": 12,
   "id": "8292f8fa",
   "metadata": {},
   "outputs": [
    {
     "name": "stdout",
     "output_type": "stream",
     "text": [
      "Help on class Scrape in module statelegiscraper.states.nv:\n",
      "\n",
      "class Scrape(builtins.object)\n",
      " |  Scrape functions for Nevada State Legislature website\n",
      " |  \n",
      " |  Methods defined here:\n",
      " |  \n",
      " |  nv_scrape_pdf(webscrape_links, dir_chrome_webdriver, dir_save)\n",
      " |      Webscrape function for Nevada State Legislature Website. \n",
      " |      \n",
      " |      Parameters\n",
      " |      ----------\n",
      " |      webscrape_links : List\n",
      " |          List of direct link(s) to NV committee webpage.\n",
      " |          see assets/weblinks/nv_weblinks.py for lists organized by chamber and committee\n",
      " |      dir_chrome_webdriver : String\n",
      " |          Local directory that contains the appropriate Chrome Webdriver.\n",
      " |      dir_save : String\n",
      " |          Local directory to save PDFs.\n",
      " |      \n",
      " |      Returns\n",
      " |      -------\n",
      " |      All PDF files found on the webscrape_links, saved on local dir_save.\n",
      " |  \n",
      " |  ----------------------------------------------------------------------\n",
      " |  Data descriptors defined here:\n",
      " |  \n",
      " |  __dict__\n",
      " |      dictionary for instance variables (if defined)\n",
      " |  \n",
      " |  __weakref__\n",
      " |      list of weak references to the object (if defined)\n",
      "\n"
     ]
    }
   ],
   "source": [
    "help(Scrape)"
   ]
  },
  {
   "cell_type": "markdown",
   "id": "8c06b199",
   "metadata": {},
   "source": [
    "So we can see here that `nv_scrape_pdf()` requires three parameters:\n",
    "1. webscrape_links: A list of links to Nevada committee hearing webpages. This is what we covered in the Assets section. We'll use `sen_hhs_2021_2019`, which is currently in our environment. \n",
    "2. dir_chrome_webdriver: The directory of your Chrome Webdriver. You should have reviewed this in the installation section and downloaded it in the `StateLegiscraper/statelegiscraper/assets/chrome_webdriver` directory. [See more details here.](https://github.com/ka-chang/StateLegiscraper/blob/main/README.md)\n",
    "3. dir_save: A local directory to save the scraped raw data, PDF files, in. We'll use `StateLegiscraper/examples/outputs` for this example."
   ]
  },
  {
   "cell_type": "markdown",
   "id": "e9442a30",
   "metadata": {},
   "source": [
    "Remember `github_file_path`? This is your unique local path address for wherever you cloned the StateLegiscraper repoistory. Let's organize the two parameters that require the recommended directories to access the Chrome Webdriver and where to save the files. \n",
    "\n",
    "Please note:\n",
    "- Change your chromedriver file to the one appropriate for your Chrome version and hardware specification. I am using Google Chrome, version 96 on a Mac Mini M1, but you are probably not. Read the installation guide to download the appropriate Chrome Driver and save it in the assets folder.\n",
    "- The save folder can be anywhere in your local drive, but for now we will be using `StateLegiscraper/examples/outputs`."
   ]
  },
  {
   "cell_type": "code",
   "execution_count": 13,
   "id": "0812c7f9",
   "metadata": {},
   "outputs": [],
   "source": [
    "directory_chrome_webdriver = str(os.path.join(github_file_path, \"statelegiscraper/assets/chromedriver/chromedriver_v96_m1\"))"
   ]
  },
  {
   "cell_type": "code",
   "execution_count": 14,
   "id": "499d89da",
   "metadata": {},
   "outputs": [
    {
     "name": "stdout",
     "output_type": "stream",
     "text": [
      "/Volumes/GoogleDrive/My Drive/State Legislatures/StateLegiscraper/statelegiscraper/assets/chromedriver/chromedriver_v96_m1\n"
     ]
    }
   ],
   "source": [
    "print(directory_chrome_webdriver)"
   ]
  },
  {
   "cell_type": "code",
   "execution_count": 15,
   "id": "b41ce68d",
   "metadata": {},
   "outputs": [],
   "source": [
    "directory_raw_data = str(os.path.join(github_file_path, \"examples/outputs/\"))"
   ]
  },
  {
   "cell_type": "code",
   "execution_count": 16,
   "id": "06b29460",
   "metadata": {},
   "outputs": [
    {
     "name": "stdout",
     "output_type": "stream",
     "text": [
      "/Volumes/GoogleDrive/My Drive/State Legislatures/StateLegiscraper/examples/outputs/\n"
     ]
    }
   ],
   "source": [
    "print(directory_raw_data)"
   ]
  },
  {
   "cell_type": "code",
   "execution_count": 17,
   "id": "a3a43b7c",
   "metadata": {},
   "outputs": [
    {
     "name": "stdout",
     "output_type": "stream",
     "text": [
      "https://www.leg.state.nv.us/Session/81st2021/Minutes/Senate/HHS/Final/1351.pdf\n",
      "https://www.leg.state.nv.us/Session/81st2021/Minutes/Senate/HHS/Final/1321.pdf\n",
      "https://www.leg.state.nv.us/Session/81st2021/Minutes/Senate/HHS/Final/1257.pdf\n",
      "https://www.leg.state.nv.us/Session/81st2021/Minutes/Senate/HHS/Final/1231.pdf\n",
      "https://www.leg.state.nv.us/Session/81st2021/Minutes/Senate/HHS/Final/1216.pdf\n",
      "https://www.leg.state.nv.us/Session/81st2021/Minutes/Senate/HHS/Final/1164.pdf\n",
      "https://www.leg.state.nv.us/Session/81st2021/Minutes/Senate/HHS/Final/1146.pdf\n",
      "https://www.leg.state.nv.us/Session/81st2021/Minutes/Senate/HHS/Final/1117.pdf\n",
      "https://www.leg.state.nv.us/Session/81st2021/Minutes/Senate/HHS/Final/1024.pdf\n",
      "https://www.leg.state.nv.us/Session/81st2021/Minutes/Senate/HHS/Final/972.pdf\n",
      "https://www.leg.state.nv.us/Session/81st2021/Minutes/Senate/HHS/Final/884.pdf\n",
      "https://www.leg.state.nv.us/Session/81st2021/Minutes/Senate/HHS/Final/787.pdf\n",
      "https://www.leg.state.nv.us/Session/81st2021/Minutes/Senate/HHS/Final/766.pdf\n",
      "https://www.leg.state.nv.us/Session/81st2021/Minutes/Senate/HHS/Final/686.pdf\n",
      "https://www.leg.state.nv.us/Session/81st2021/Minutes/Senate/HHS/Final/660.pdf\n",
      "https://www.leg.state.nv.us/Session/81st2021/Minutes/Senate/HHS/Final/755.pdf\n",
      "https://www.leg.state.nv.us/Session/81st2021/Minutes/Senate/HHS/Final/737.pdf\n",
      "https://www.leg.state.nv.us/Session/81st2021/Minutes/Senate/HHS/Final/647.pdf\n",
      "https://www.leg.state.nv.us/Session/81st2021/Minutes/Senate/HHS/Final/597.pdf\n",
      "https://www.leg.state.nv.us/Session/81st2021/Minutes/Senate/HHS/Final/563.pdf\n",
      "https://www.leg.state.nv.us/Session/81st2021/Minutes/Senate/HHS/Final/479.pdf\n",
      "https://www.leg.state.nv.us/Session/81st2021/Minutes/Senate/HHS/Final/478.pdf\n",
      "https://www.leg.state.nv.us/Session/81st2021/Minutes/Senate/HHS/Final/435.pdf\n",
      "https://www.leg.state.nv.us/Session/81st2021/Minutes/Senate/HHS/Final/240.pdf\n",
      "https://www.leg.state.nv.us/Session/81st2021/Minutes/Senate/HHS/Final/127.pdf\n",
      "https://www.leg.state.nv.us/Session/81st2021/Minutes/Senate/HHS/Final/94.pdf\n",
      "https://www.leg.state.nv.us/Session/81st2021/Minutes/Senate/HHS/Final/87.pdf\n",
      "https://www.leg.state.nv.us/Session/81st2021/Minutes/Senate/HHS/Final/86.pdf\n",
      "https://www.leg.state.nv.us/Session/80th2019/Minutes/Senate/HHS/Final/1469.pdf\n",
      "https://www.leg.state.nv.us/Session/80th2019/Minutes/Senate/HHS/Final/1430.pdf\n",
      "https://www.leg.state.nv.us/Session/80th2019/Minutes/Senate/HHS/Final/1434.pdf\n",
      "https://www.leg.state.nv.us/Session/80th2019/Minutes/Senate/HHS/Final/1411.pdf\n",
      "https://www.leg.state.nv.us/Session/80th2019/Minutes/Senate/HHS/Final/1317.pdf\n",
      "https://www.leg.state.nv.us/Session/80th2019/Minutes/Senate/HHS/Final/1276.pdf\n",
      "https://www.leg.state.nv.us/Session/80th2019/Minutes/Senate/HHS/Final/1226.pdf\n",
      "https://www.leg.state.nv.us/Session/80th2019/Minutes/Senate/HHS/Final/1019.pdf\n",
      "https://www.leg.state.nv.us/Session/80th2019/Minutes/Senate/HHS/Final/1225.pdf\n",
      "https://www.leg.state.nv.us/Session/80th2019/Minutes/Senate/HHS/Final/989.pdf\n",
      "https://www.leg.state.nv.us/Session/80th2019/Minutes/Senate/HHS/Final/988.pdf\n",
      "https://www.leg.state.nv.us/Session/80th2019/Minutes/Senate/HHS/Final/987.pdf\n",
      "https://www.leg.state.nv.us/Session/80th2019/Minutes/Senate/HHS/Final/1005.pdf\n",
      "https://www.leg.state.nv.us/Session/80th2019/Minutes/Senate/HHS/Final/867.pdf\n",
      "https://www.leg.state.nv.us/Session/80th2019/Minutes/Senate/HHS/Final/864.pdf\n",
      "https://www.leg.state.nv.us/Session/80th2019/Minutes/Senate/HHS/Final/868.pdf\n",
      "https://www.leg.state.nv.us/Session/80th2019/Minutes/Senate/HHS/Final/632.pdf\n",
      "https://www.leg.state.nv.us/Session/80th2019/Minutes/Senate/HHS/Final/631.pdf\n",
      "https://www.leg.state.nv.us/Session/80th2019/Minutes/Senate/HHS/Final/780.pdf\n",
      "https://www.leg.state.nv.us/Session/80th2019/Minutes/Senate/HHS/Final/630.pdf\n",
      "https://www.leg.state.nv.us/Session/80th2019/Minutes/Senate/HHS/Final/629.pdf\n",
      "https://www.leg.state.nv.us/Session/80th2019/Minutes/Senate/HHS/Final/495.pdf\n",
      "https://www.leg.state.nv.us/Session/80th2019/Minutes/Senate/HHS/Final/494.pdf\n",
      "https://www.leg.state.nv.us/Session/80th2019/Minutes/Senate/HHS/Final/740.pdf\n",
      "https://www.leg.state.nv.us/Session/80th2019/Minutes/Senate/HHS/Final/493.pdf\n",
      "https://www.leg.state.nv.us/Session/80th2019/Minutes/Senate/HHS/Final/492.pdf\n",
      "https://www.leg.state.nv.us/Session/80th2019/Minutes/Senate/HHS/Final/388.pdf\n",
      "https://www.leg.state.nv.us/Session/80th2019/Minutes/Senate/HHS/Final/387.pdf\n",
      "https://www.leg.state.nv.us/Session/80th2019/Minutes/Senate/HHS/Final/386.pdf\n",
      "https://www.leg.state.nv.us/Session/80th2019/Minutes/Senate/HHS/Final/385.pdf\n",
      "https://www.leg.state.nv.us/Session/80th2019/Minutes/Senate/HHS/Final/360.pdf\n",
      "https://www.leg.state.nv.us/Session/80th2019/Minutes/Senate/HHS/Final/359.pdf\n",
      "https://www.leg.state.nv.us/Session/80th2019/Minutes/Senate/HHS/Final/445.pdf\n",
      "https://www.leg.state.nv.us/Session/80th2019/Minutes/Senate/HHS/Final/358.pdf\n",
      "https://www.leg.state.nv.us/Session/80th2019/Minutes/Senate/HHS/Final/201.pdf\n",
      "https://www.leg.state.nv.us/Session/80th2019/Minutes/Senate/HHS/Final/166.pdf\n",
      "https://www.leg.state.nv.us/Session/80th2019/Minutes/Senate/HHS/Final/164.pdf\n",
      "https://www.leg.state.nv.us/Session/80th2019/Minutes/Senate/HHS/Final/149.pdf\n"
     ]
    }
   ],
   "source": [
    "Scrape.nv_scrape_pdf(sen_hhs_2021_2019, directory_chrome_webdriver, directory_raw_data)"
   ]
  },
  {
   "cell_type": "markdown",
   "id": "766216b4",
   "metadata": {},
   "source": [
    "Congratulations! You have data now! Let's check the raw data outputs folder to ensure the PDF files exported appropriately."
   ]
  },
  {
   "cell_type": "code",
   "execution_count": 18,
   "id": "3b48f1e7",
   "metadata": {},
   "outputs": [
    {
     "data": {
      "text/plain": [
       "['81st2021_Minutes_Senate_HHS_Final_1351.pdf',\n",
       " '81st2021_Minutes_Senate_HHS_Final_1321.pdf',\n",
       " '81st2021_Minutes_Senate_HHS_Final_1257.pdf',\n",
       " '81st2021_Minutes_Senate_HHS_Final_1231.pdf',\n",
       " '81st2021_Minutes_Senate_HHS_Final_1216.pdf',\n",
       " '81st2021_Minutes_Senate_HHS_Final_1164.pdf',\n",
       " '81st2021_Minutes_Senate_HHS_Final_1146.pdf',\n",
       " '81st2021_Minutes_Senate_HHS_Final_1117.pdf',\n",
       " '81st2021_Minutes_Senate_HHS_Final_1024.pdf',\n",
       " '81st2021_Minutes_Senate_HHS_Final_972.pdf',\n",
       " '81st2021_Minutes_Senate_HHS_Final_884.pdf',\n",
       " '81st2021_Minutes_Senate_HHS_Final_787.pdf',\n",
       " '81st2021_Minutes_Senate_HHS_Final_766.pdf',\n",
       " '81st2021_Minutes_Senate_HHS_Final_686.pdf',\n",
       " '81st2021_Minutes_Senate_HHS_Final_660.pdf',\n",
       " '81st2021_Minutes_Senate_HHS_Final_755.pdf',\n",
       " '81st2021_Minutes_Senate_HHS_Final_737.pdf',\n",
       " '81st2021_Minutes_Senate_HHS_Final_647.pdf',\n",
       " '81st2021_Minutes_Senate_HHS_Final_597.pdf',\n",
       " '81st2021_Minutes_Senate_HHS_Final_563.pdf',\n",
       " '81st2021_Minutes_Senate_HHS_Final_479.pdf',\n",
       " '81st2021_Minutes_Senate_HHS_Final_478.pdf',\n",
       " '81st2021_Minutes_Senate_HHS_Final_435.pdf',\n",
       " '81st2021_Minutes_Senate_HHS_Final_240.pdf',\n",
       " '81st2021_Minutes_Senate_HHS_Final_127.pdf',\n",
       " '81st2021_Minutes_Senate_HHS_Final_94.pdf',\n",
       " '81st2021_Minutes_Senate_HHS_Final_87.pdf',\n",
       " '81st2021_Minutes_Senate_HHS_Final_86.pdf',\n",
       " '80th2019_Minutes_Senate_HHS_Final_1469.pdf',\n",
       " '80th2019_Minutes_Senate_HHS_Final_1430.pdf',\n",
       " '80th2019_Minutes_Senate_HHS_Final_1434.pdf',\n",
       " '80th2019_Minutes_Senate_HHS_Final_1411.pdf',\n",
       " '80th2019_Minutes_Senate_HHS_Final_1317.pdf',\n",
       " '80th2019_Minutes_Senate_HHS_Final_1276.pdf',\n",
       " '80th2019_Minutes_Senate_HHS_Final_1226.pdf',\n",
       " '80th2019_Minutes_Senate_HHS_Final_1019.pdf',\n",
       " '80th2019_Minutes_Senate_HHS_Final_1225.pdf',\n",
       " '80th2019_Minutes_Senate_HHS_Final_989.pdf',\n",
       " '80th2019_Minutes_Senate_HHS_Final_988.pdf',\n",
       " '80th2019_Minutes_Senate_HHS_Final_987.pdf',\n",
       " '80th2019_Minutes_Senate_HHS_Final_1005.pdf',\n",
       " '80th2019_Minutes_Senate_HHS_Final_867.pdf',\n",
       " '80th2019_Minutes_Senate_HHS_Final_864.pdf',\n",
       " '80th2019_Minutes_Senate_HHS_Final_868.pdf',\n",
       " '80th2019_Minutes_Senate_HHS_Final_632.pdf',\n",
       " '80th2019_Minutes_Senate_HHS_Final_631.pdf',\n",
       " '80th2019_Minutes_Senate_HHS_Final_780.pdf',\n",
       " '80th2019_Minutes_Senate_HHS_Final_630.pdf',\n",
       " '80th2019_Minutes_Senate_HHS_Final_629.pdf',\n",
       " '80th2019_Minutes_Senate_HHS_Final_495.pdf',\n",
       " '80th2019_Minutes_Senate_HHS_Final_494.pdf',\n",
       " '80th2019_Minutes_Senate_HHS_Final_740.pdf',\n",
       " '80th2019_Minutes_Senate_HHS_Final_493.pdf',\n",
       " '80th2019_Minutes_Senate_HHS_Final_492.pdf',\n",
       " '80th2019_Minutes_Senate_HHS_Final_388.pdf',\n",
       " '80th2019_Minutes_Senate_HHS_Final_387.pdf',\n",
       " '80th2019_Minutes_Senate_HHS_Final_386.pdf',\n",
       " '80th2019_Minutes_Senate_HHS_Final_385.pdf',\n",
       " '80th2019_Minutes_Senate_HHS_Final_360.pdf',\n",
       " '80th2019_Minutes_Senate_HHS_Final_359.pdf',\n",
       " '80th2019_Minutes_Senate_HHS_Final_445.pdf',\n",
       " '80th2019_Minutes_Senate_HHS_Final_358.pdf',\n",
       " '80th2019_Minutes_Senate_HHS_Final_201.pdf',\n",
       " '80th2019_Minutes_Senate_HHS_Final_166.pdf',\n",
       " '80th2019_Minutes_Senate_HHS_Final_164.pdf',\n",
       " '80th2019_Minutes_Senate_HHS_Final_149.pdf']"
      ]
     },
     "execution_count": 18,
     "metadata": {},
     "output_type": "execute_result"
    }
   ],
   "source": [
    "os.listdir(directory_raw_data)"
   ]
  },
  {
   "cell_type": "markdown",
   "id": "cd3672e7",
   "metadata": {},
   "source": [
    "## Nevada Process Class"
   ]
  },
  {
   "cell_type": "code",
   "execution_count": null,
   "id": "9b82d48e",
   "metadata": {},
   "outputs": [],
   "source": [
    "from statelegiscraper.states.nv import Process"
   ]
  },
  {
   "cell_type": "code",
   "execution_count": null,
   "id": "fc2b552a",
   "metadata": {},
   "outputs": [],
   "source": [
    "Process.nv_pdf_to_text()"
   ]
  },
  {
   "cell_type": "code",
   "execution_count": null,
   "id": "ef517607",
   "metadata": {},
   "outputs": [],
   "source": [
    "Process.nv_text_clean()"
   ]
  },
  {
   "cell_type": "markdown",
   "id": "1f3455b0",
   "metadata": {},
   "source": [
    "## What Now?"
   ]
  },
  {
   "cell_type": "markdown",
   "id": "328f6267",
   "metadata": {},
   "source": [
    "You have data now – congratulations! This is where you, the user, have free reign to begin working with popular NLP Pythong packages, such as nltk and SpaCy. "
   ]
  },
  {
   "cell_type": "code",
   "execution_count": null,
   "id": "e82ef34b",
   "metadata": {},
   "outputs": [],
   "source": [
    "# Word Frequency Example"
   ]
  }
 ],
 "metadata": {
  "kernelspec": {
   "display_name": "Python 3 (ipykernel)",
   "language": "python",
   "name": "python3"
  },
  "language_info": {
   "codemirror_mode": {
    "name": "ipython",
    "version": 3
   },
   "file_extension": ".py",
   "mimetype": "text/x-python",
   "name": "python",
   "nbconvert_exporter": "python",
   "pygments_lexer": "ipython3",
   "version": "3.9.7"
  }
 },
 "nbformat": 4,
 "nbformat_minor": 5
}
