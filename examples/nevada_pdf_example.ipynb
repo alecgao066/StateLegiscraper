{
 "cells": [
  {
   "cell_type": "markdown",
   "id": "15ca65d2",
   "metadata": {},
   "source": [
    "# StateLegiscraper: PDF Format Example Notebook"
   ]
  },
  {
   "cell_type": "markdown",
   "id": "f0dd811b",
   "metadata": {},
   "source": [
    "*Author*: Katherine Chang (kachang@uw.edu)\n",
    "\n",
    "*Last Updated*: 12/12/2021"
   ]
  },
  {
   "cell_type": "markdown",
   "id": "2bc1af62",
   "metadata": {},
   "source": [
    "StateLegiscraper is a Python package that scrapes and processes data from U.S. state legislature websites. As of writing, the package is focused on transcribing standing committee hearings from each state legislature from its native archival format to text, so that this text data can be easily used for NLP research purposes and for public review. For more details about the StateLegiscraper, please visit its [Github repository](https://github.com/ka-chang/StateLegiscraper) where it is under active development. "
   ]
  },
  {
   "cell_type": "markdown",
   "id": "4ce18e2a",
   "metadata": {},
   "source": [
    "This notebook walks a new user through the StateLegiscraper workflow, with a focus on the Nevada State Legislature and working with PDF file formats. \n",
    "\n",
    "This notebook makes several assumptions about the user, which are that they have:\n",
    "\n",
    "- At least a novice level familiarity with Python, including importing packages, running basic functions, and saving files.\n",
    "- Knowledge of different Python file types, particularily lists and dictionaries. \n",
    "- Comfort working in the command line, as StateLegiscraper is installed through the user's choice of terminal. \n",
    "- Have at least 100 mb of space on their local hard drive or a mounted cloud drive to save the raw data on."
   ]
  },
  {
   "cell_type": "markdown",
   "id": "07d4c097",
   "metadata": {},
   "source": [
    "## The Nevada Context"
   ]
  },
  {
   "cell_type": "markdown",
   "id": "4830dd68",
   "metadata": {},
   "source": [
    "The Nevada State Legislature is a part-time biennial state legislature, which means state legislators meet on odd number of years between the months of February to June. The state legislature website, [www.leg.state.nv.us](www.leg.state.nv.us), hosts human transcribed transcripts of its standing committee meetings in PDF format. "
   ]
  },
  {
   "cell_type": "markdown",
   "id": "9b7387a1",
   "metadata": {},
   "source": [
    "## Setup"
   ]
  },
  {
   "cell_type": "markdown",
   "id": "40afd7b9",
   "metadata": {},
   "source": [
    "Please ensure StateLegiscraper is installed on your local drive. Please refer to the [following instructions for details](https://github.com/ka-chang/StateLegiscraper/blob/main/README.md)."
   ]
  },
  {
   "cell_type": "markdown",
   "id": "2840dc10",
   "metadata": {},
   "source": [
    "The following two code chunks change the directory to your local StateLegiscraper directory, which allows us to import the modules in to use."
   ]
  },
  {
   "cell_type": "code",
   "execution_count": 1,
   "id": "c2da06d4",
   "metadata": {},
   "outputs": [],
   "source": [
    "import os\n",
    "from pathlib import Path\n",
    "import sys"
   ]
  },
  {
   "cell_type": "code",
   "execution_count": 16,
   "id": "eb5877e0",
   "metadata": {},
   "outputs": [],
   "source": [
    "github_file_path = str(Path(os.getcwd()).parents[0]) #Sets to local Github directory path\n",
    "\n",
    "sys.path.insert(1, github_file_path) "
   ]
  },
  {
   "cell_type": "code",
   "execution_count": 19,
   "id": "c671f890",
   "metadata": {},
   "outputs": [
    {
     "name": "stdout",
     "output_type": "stream",
     "text": [
      "/Volumes/GoogleDrive/My Drive/State Legislatures/StateLegiscraper\n"
     ]
    }
   ],
   "source": [
    "#print(github_file_path)"
   ]
  },
  {
   "cell_type": "markdown",
   "id": "9cf1e205",
   "metadata": {},
   "source": [
    "The github_file_path should be in the Github root directory, /StateLegiscraper"
   ]
  },
  {
   "cell_type": "markdown",
   "id": "82cb3ab1",
   "metadata": {},
   "source": [
    "## Nevada Scrape Class"
   ]
  },
  {
   "cell_type": "code",
   "execution_count": 18,
   "id": "9d822077",
   "metadata": {},
   "outputs": [],
   "source": [
    "from statelegiscraper.states.nv import Scrape"
   ]
  },
  {
   "cell_type": "code",
   "execution_count": null,
   "id": "0812c7f9",
   "metadata": {},
   "outputs": [],
   "source": [
    "Scrape.nv_scrape_pdf()"
   ]
  },
  {
   "cell_type": "code",
   "execution_count": null,
   "id": "499d89da",
   "metadata": {},
   "outputs": [],
   "source": []
  },
  {
   "cell_type": "code",
   "execution_count": null,
   "id": "a3a43b7c",
   "metadata": {},
   "outputs": [],
   "source": []
  },
  {
   "cell_type": "code",
   "execution_count": null,
   "id": "e690572e",
   "metadata": {},
   "outputs": [],
   "source": [
    "from statelegiscraper.assets.weblinks import nv_weblinks"
   ]
  },
  {
   "cell_type": "code",
   "execution_count": null,
   "id": "32468af1",
   "metadata": {},
   "outputs": [],
   "source": [
    "#https://github.com/ka-chang/StateLegiscraper/blob/main/statelegiscraper/assets/weblinks/nv_weblinks.py\n",
    "\n",
    "assem_ed = nv_weblinks.sen_hhs\n",
    "assem_ed = nv_weblinks.assem_hhs"
   ]
  },
  {
   "cell_type": "markdown",
   "id": "cd3672e7",
   "metadata": {},
   "source": [
    "## Nevada Process Class"
   ]
  },
  {
   "cell_type": "code",
   "execution_count": null,
   "id": "9b82d48e",
   "metadata": {},
   "outputs": [],
   "source": [
    "from statelegiscraper.states.nv import Process"
   ]
  },
  {
   "cell_type": "code",
   "execution_count": null,
   "id": "fc2b552a",
   "metadata": {},
   "outputs": [],
   "source": [
    "Process.nv_pdf_to_text()"
   ]
  },
  {
   "cell_type": "code",
   "execution_count": null,
   "id": "ef517607",
   "metadata": {},
   "outputs": [],
   "source": [
    "Process.nv_text_clean()"
   ]
  },
  {
   "cell_type": "markdown",
   "id": "1f3455b0",
   "metadata": {},
   "source": [
    "## What Now?"
   ]
  },
  {
   "cell_type": "markdown",
   "id": "328f6267",
   "metadata": {},
   "source": [
    "You have data now – congratulations! This is where you, the user, have free reign to begin working with popular NLP Pythong packages, such as nltk and SpaCy. "
   ]
  },
  {
   "cell_type": "code",
   "execution_count": null,
   "id": "e82ef34b",
   "metadata": {},
   "outputs": [],
   "source": [
    "# Word Frequency Example"
   ]
  }
 ],
 "metadata": {
  "kernelspec": {
   "display_name": "Python 3 (ipykernel)",
   "language": "python",
   "name": "python3"
  },
  "language_info": {
   "codemirror_mode": {
    "name": "ipython",
    "version": 3
   },
   "file_extension": ".py",
   "mimetype": "text/x-python",
   "name": "python",
   "nbconvert_exporter": "python",
   "pygments_lexer": "ipython3",
   "version": "3.9.7"
  }
 },
 "nbformat": 4,
 "nbformat_minor": 5
}
